{
  "nbformat": 4,
  "nbformat_minor": 0,
  "metadata": {
    "colab": {
      "name": "HW4.ipynb",
      "provenance": [],
      "authorship_tag": "ABX9TyNzD1aualM3k5eZAAYYe3gq",
      "include_colab_link": true
    },
    "kernelspec": {
      "name": "python3",
      "display_name": "Python 3"
    }
  },
  "cells": [
    {
      "cell_type": "markdown",
      "metadata": {
        "id": "view-in-github",
        "colab_type": "text"
      },
      "source": [
        "<a href=\"https://colab.research.google.com/github/TivsLThree/CAP-4630-Artificial-Intelligence/blob/master/Homework/HW4/HW4.ipynb\" target=\"_parent\"><img src=\"https://colab.research.google.com/assets/colab-badge.svg\" alt=\"Open In Colab\"/></a>"
      ]
    },
    {
      "cell_type": "markdown",
      "metadata": {
        "id": "bh-Y28OTv7rD",
        "colab_type": "text"
      },
      "source": [
        "### Create data and import"
      ]
    },
    {
      "cell_type": "code",
      "metadata": {
        "id": "kIRSUgtJSW4d",
        "colab_type": "code",
        "outputId": "807a1062-bda6-4d3f-d26e-8d4c9cec243f",
        "colab": {
          "base_uri": "https://localhost:8080/",
          "height": 118
        }
      },
      "source": [
        "import numpy as np\n",
        "from scipy import signal # only used for validation\n",
        "a = np.matrix('1 2 3 4 5; 0 0 0 0 0; 3 3 3 3 3; 4 4 4 4 4; 1 1 1 1 1')\n",
        "b = np.matrix('1 0 1; 0 1 0; 1 0 1')\n",
        "print(conv2d(a, b))\n",
        "print(signal.convolve2d(a,b, mode = 'valid'))"
      ],
      "execution_count": 7,
      "outputs": [
        {
          "output_type": "stream",
          "text": [
            "[[10. 12. 14.]\n",
            " [11. 11. 11.]\n",
            " [12. 12. 12.]]\n",
            "[[10 12 14]\n",
            " [11 11 11]\n",
            " [12 12 12]]\n"
          ],
          "name": "stdout"
        }
      ]
    },
    {
      "cell_type": "code",
      "metadata": {
        "id": "WvTnjzIOrzWk",
        "colab_type": "code",
        "outputId": "cae5fdae-fa6e-437d-ce74-ad583df5554c",
        "colab": {
          "base_uri": "https://localhost:8080/",
          "height": 67
        }
      },
      "source": [
        "def conv2d(input_mat, kernal_mat):\n",
        "  kernal_mat = np.rot90(kernal_mat, 2);\n",
        "  kx,ky = kernal_mat.shape\n",
        "  if(kx != ky):\n",
        "    print(\"Kernal not square!\");\n",
        "    return [];\n",
        "  if(input_mat.shape[0] < kx or input_mat.shape[1] < kx):\n",
        "    print(\"Kernal too large!\")\n",
        "    return [];\n",
        "  xdiff, ydiff = np.subtract(input_mat.shape,kernal_mat.shape) # figure out the final size\n",
        "  result_shape = np.add((xdiff,ydiff),(1,1))\n",
        "  output_mat = np.zeros(result_shape)\n",
        "  for i in range(xdiff + 1):\n",
        "    for j in range(ydiff + 1):\n",
        "       output_mat[i][j] += np.sum(np.multiply(input_mat[i:kx+i,j:ky+j],kernal_mat))\n",
        "  return output_mat # assuming no relu here\n",
        "\n",
        "\n",
        "  \n",
        "print(conv2d(a, b))"
      ],
      "execution_count": 8,
      "outputs": [
        {
          "output_type": "stream",
          "text": [
            "[[10. 12. 14.]\n",
            " [11. 11. 11.]\n",
            " [12. 12. 12.]]\n"
          ],
          "name": "stdout"
        }
      ]
    },
    {
      "cell_type": "code",
      "metadata": {
        "id": "hJnr1qz3zSkh",
        "colab_type": "code",
        "outputId": "8de42f53-8cd3-4545-9bde-c749d8712895",
        "colab": {
          "base_uri": "https://localhost:8080/",
          "height": 50
        }
      },
      "source": [
        "\n",
        "def maxpooling2d(input_mat, s):\n",
        "  x, y = input_mat.shape\n",
        "  #if(x != y): testcases supplied allowed this so i will remove it\n",
        "  #   print(\"matrix must be square!\")\n",
        "  #   return;\n",
        "  if(s > x):\n",
        "    print(\"s is too large!\")\n",
        "    return;\n",
        "  nx = (x - s)//s + 1\n",
        "  ny = (y - s)//s + 1\n",
        "  output_mat = np.zeros((nx,ny))\n",
        "  for i in range(nx):\n",
        "    for j in range(ny):\n",
        "      sub = input_mat[i*s: i*s + s, j*s : j*s + s]\n",
        "      max_val = sub.max();\n",
        "      output_mat[i,j] = max_val\n",
        "      #f = np.vectorize(lambda x: 0 if x < max_val else max_val)\n",
        "      #sub = f(sub)\n",
        "  return output_mat\n",
        "\n",
        "  \n",
        "maxpooling2d(a,2)"
      ],
      "execution_count": 9,
      "outputs": [
        {
          "output_type": "execute_result",
          "data": {
            "text/plain": [
              "array([[2., 4.],\n",
              "       [4., 4.]])"
            ]
          },
          "metadata": {
            "tags": []
          },
          "execution_count": 9
        }
      ]
    }
  ]
}