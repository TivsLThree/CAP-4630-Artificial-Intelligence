{
  "nbformat": 4,
  "nbformat_minor": 0,
  "metadata": {
    "colab": {
      "name": "HW4V2-pretrained_convnet_finetuning.ipynb",
      "provenance": [],
      "include_colab_link": true
    },
    "kernelspec": {
      "name": "python3",
      "display_name": "Python 3"
    },
    "accelerator": "GPU"
  },
  "cells": [
    {
      "cell_type": "markdown",
      "metadata": {
        "id": "view-in-github",
        "colab_type": "text"
      },
      "source": [
        "<a href=\"https://colab.research.google.com/github/TivsLThree/CAP-4630-Artificial-Intelligence/blob/master/Homework/HW4/HW4V2_pretrained_convnet_finetuning.ipynb\" target=\"_parent\"><img src=\"https://colab.research.google.com/assets/colab-badge.svg\" alt=\"Open In Colab\"/></a>"
      ]
    },
    {
      "cell_type": "markdown",
      "metadata": {
        "id": "KSrgMJ5vKFzQ",
        "colab_type": "text"
      },
      "source": [
        "# Fine-tuning VGG16 "
      ]
    },
    {
      "cell_type": "markdown",
      "metadata": {
        "id": "TIW7bZaAK-Hf",
        "colab_type": "text"
      },
      "source": [
        "This is based on section 5.3 *Using a pretrained convnet* of the book *Deep learning with Python* by Francois Chollet. I have made several changes to the code. I use the data that is already provided by Google. I don't download the data from Kaggle as in the deep learning book."
      ]
    },
    {
      "cell_type": "markdown",
      "metadata": {
        "id": "nsBq__dVo2pj",
        "colab_type": "text"
      },
      "source": [
        "## Feature extraction"
      ]
    },
    {
      "cell_type": "markdown",
      "metadata": {
        "id": "0g6ETAM9o54M",
        "colab_type": "text"
      },
      "source": [
        "Feature extraction consists of using the representations learned by a previous network to extract interesting features from new samples. These features are then run through a new classifier, which is trained from scratch.\n",
        "\n",
        "We will use here the convolutional base of the VGG16 model to extract the features. We will feed these features to a densely connected classifier with dropout. We will fine-tune some layers."
      ]
    },
    {
      "cell_type": "markdown",
      "metadata": {
        "id": "BqIG8QHMLNOn",
        "colab_type": "text"
      },
      "source": [
        "## Download the data"
      ]
    },
    {
      "cell_type": "markdown",
      "metadata": {
        "id": "t3I1jd7cKV6_",
        "colab_type": "text"
      },
      "source": [
        "Download the example data, a zip. of 2,000 JPG pictures of cats and dogs and extract it locally in ```/tmp```.\n",
        "\n"
      ]
    },
    {
      "cell_type": "code",
      "metadata": {
        "id": "JWjprHEXJ5Qi",
        "colab_type": "code",
        "outputId": "719d9eec-d272-49c4-a40f-dea7c33700ea",
        "colab": {
          "base_uri": "https://localhost:8080/",
          "height": 202
        }
      },
      "source": [
        "!wget --no-check-certificate \\\n",
        "    https://storage.googleapis.com/mledu-datasets/cats_and_dogs_filtered.zip \\\n",
        "    -O /tmp/cats_and_dogs_filtered.zip"
      ],
      "execution_count": 0,
      "outputs": [
        {
          "output_type": "stream",
          "text": [
            "--2020-04-16 22:04:18--  https://storage.googleapis.com/mledu-datasets/cats_and_dogs_filtered.zip\n",
            "Resolving storage.googleapis.com (storage.googleapis.com)... 74.125.124.128, 2607:f8b0:4001:c0e::80\n",
            "Connecting to storage.googleapis.com (storage.googleapis.com)|74.125.124.128|:443... connected.\n",
            "HTTP request sent, awaiting response... 200 OK\n",
            "Length: 68606236 (65M) [application/zip]\n",
            "Saving to: ‘/tmp/cats_and_dogs_filtered.zip’\n",
            "\n",
            "/tmp/cats_and_dogs_ 100%[===================>]  65.43M  45.9MB/s    in 1.4s    \n",
            "\n",
            "2020-04-16 22:04:19 (45.9 MB/s) - ‘/tmp/cats_and_dogs_filtered.zip’ saved [68606236/68606236]\n",
            "\n"
          ],
          "name": "stdout"
        }
      ]
    },
    {
      "cell_type": "code",
      "metadata": {
        "id": "WvoHtdA-K6Rw",
        "colab_type": "code",
        "colab": {}
      },
      "source": [
        "import os\n",
        "import zipfile\n",
        "\n",
        "local_zip = '/tmp/cats_and_dogs_filtered.zip'\n",
        "zip_ref = zipfile.ZipFile(local_zip, 'r')\n",
        "zip_ref.extractall('/tmp')\n",
        "zip_ref.close()"
      ],
      "execution_count": 0,
      "outputs": []
    },
    {
      "cell_type": "markdown",
      "metadata": {
        "id": "shZiOBnJMyy_",
        "colab_type": "text"
      },
      "source": [
        "Note that the data provided by Google does not have a test set."
      ]
    },
    {
      "cell_type": "code",
      "metadata": {
        "id": "dL8ikM89LlsH",
        "colab_type": "code",
        "colab": {}
      },
      "source": [
        "base_dir = '/tmp/cats_and_dogs_filtered'\n",
        "train_dir = os.path.join(base_dir, 'train')\n",
        "validation_dir = os.path.join(base_dir, 'validation')\n",
        "\n",
        "# Directory with our training cat pictures\n",
        "train_cats_dir = os.path.join(train_dir, 'cats')\n",
        "\n",
        "# Directory with our training dog pictures\n",
        "train_dogs_dir = os.path.join(train_dir, 'dogs')\n",
        "\n",
        "# Directory with our validation cat pictures\n",
        "validation_cats_dir = os.path.join(validation_dir, 'cats')\n",
        "\n",
        "# Directory with our validation dog pictures\n",
        "validation_dogs_dir = os.path.join(validation_dir, 'dogs')"
      ],
      "execution_count": 0,
      "outputs": []
    },
    {
      "cell_type": "markdown",
      "metadata": {
        "id": "inyP8bcdXnn-",
        "colab_type": "text"
      },
      "source": [
        "## Build network with VGG16 convolution base and custom densely connected layers"
      ]
    },
    {
      "cell_type": "markdown",
      "metadata": {
        "id": "kQ48W5T9rHWu",
        "colab_type": "text"
      },
      "source": [
        "### Load the convolutional base"
      ]
    },
    {
      "cell_type": "code",
      "metadata": {
        "id": "Y0FgtANCXm_H",
        "colab_type": "code",
        "outputId": "9f2cf99d-b1a6-4b99-e550-193290a4139e",
        "colab": {
          "base_uri": "https://localhost:8080/",
          "height": 1000
        }
      },
      "source": [
        "from keras.applications import VGG16\n",
        "from keras.applications import ResNet50\n",
        "from keras.applications import Xception\n",
        "# Change the conv_base\n",
        "#conv_base = VGG16(\n",
        "#    weights='imagenet', \n",
        "#    include_top=False, \n",
        "#    input_shape=(150, 150, 3))\n",
        "#conv_base = ResNet50( # didn't like these results\n",
        "#    include_top = False, \n",
        "#    weights = 'imagenet', \n",
        "#    input_shape=(150,150,3))\n",
        "conv_base = Xception(\n",
        "    weights='imagenet', \n",
        "    include_top=False, \n",
        "    input_shape=(150, 150, 3))\n",
        "conv_base.summary()"
      ],
      "execution_count": 0,
      "outputs": [
        {
          "output_type": "stream",
          "text": [
            "Model: \"xception\"\n",
            "__________________________________________________________________________________________________\n",
            "Layer (type)                    Output Shape         Param #     Connected to                     \n",
            "==================================================================================================\n",
            "input_12 (InputLayer)           (None, 150, 150, 3)  0                                            \n",
            "__________________________________________________________________________________________________\n",
            "block1_conv1 (Conv2D)           (None, 74, 74, 32)   864         input_12[0][0]                   \n",
            "__________________________________________________________________________________________________\n",
            "block1_conv1_bn (BatchNormaliza (None, 74, 74, 32)   128         block1_conv1[0][0]               \n",
            "__________________________________________________________________________________________________\n",
            "block1_conv1_act (Activation)   (None, 74, 74, 32)   0           block1_conv1_bn[0][0]            \n",
            "__________________________________________________________________________________________________\n",
            "block1_conv2 (Conv2D)           (None, 72, 72, 64)   18432       block1_conv1_act[0][0]           \n",
            "__________________________________________________________________________________________________\n",
            "block1_conv2_bn (BatchNormaliza (None, 72, 72, 64)   256         block1_conv2[0][0]               \n",
            "__________________________________________________________________________________________________\n",
            "block1_conv2_act (Activation)   (None, 72, 72, 64)   0           block1_conv2_bn[0][0]            \n",
            "__________________________________________________________________________________________________\n",
            "block2_sepconv1 (SeparableConv2 (None, 72, 72, 128)  8768        block1_conv2_act[0][0]           \n",
            "__________________________________________________________________________________________________\n",
            "block2_sepconv1_bn (BatchNormal (None, 72, 72, 128)  512         block2_sepconv1[0][0]            \n",
            "__________________________________________________________________________________________________\n",
            "block2_sepconv2_act (Activation (None, 72, 72, 128)  0           block2_sepconv1_bn[0][0]         \n",
            "__________________________________________________________________________________________________\n",
            "block2_sepconv2 (SeparableConv2 (None, 72, 72, 128)  17536       block2_sepconv2_act[0][0]        \n",
            "__________________________________________________________________________________________________\n",
            "block2_sepconv2_bn (BatchNormal (None, 72, 72, 128)  512         block2_sepconv2[0][0]            \n",
            "__________________________________________________________________________________________________\n",
            "conv2d_5 (Conv2D)               (None, 36, 36, 128)  8192        block1_conv2_act[0][0]           \n",
            "__________________________________________________________________________________________________\n",
            "block2_pool (MaxPooling2D)      (None, 36, 36, 128)  0           block2_sepconv2_bn[0][0]         \n",
            "__________________________________________________________________________________________________\n",
            "batch_normalization_5 (BatchNor (None, 36, 36, 128)  512         conv2d_5[0][0]                   \n",
            "__________________________________________________________________________________________________\n",
            "add_157 (Add)                   (None, 36, 36, 128)  0           block2_pool[0][0]                \n",
            "                                                                 batch_normalization_5[0][0]      \n",
            "__________________________________________________________________________________________________\n",
            "block3_sepconv1_act (Activation (None, 36, 36, 128)  0           add_157[0][0]                    \n",
            "__________________________________________________________________________________________________\n",
            "block3_sepconv1 (SeparableConv2 (None, 36, 36, 256)  33920       block3_sepconv1_act[0][0]        \n",
            "__________________________________________________________________________________________________\n",
            "block3_sepconv1_bn (BatchNormal (None, 36, 36, 256)  1024        block3_sepconv1[0][0]            \n",
            "__________________________________________________________________________________________________\n",
            "block3_sepconv2_act (Activation (None, 36, 36, 256)  0           block3_sepconv1_bn[0][0]         \n",
            "__________________________________________________________________________________________________\n",
            "block3_sepconv2 (SeparableConv2 (None, 36, 36, 256)  67840       block3_sepconv2_act[0][0]        \n",
            "__________________________________________________________________________________________________\n",
            "block3_sepconv2_bn (BatchNormal (None, 36, 36, 256)  1024        block3_sepconv2[0][0]            \n",
            "__________________________________________________________________________________________________\n",
            "conv2d_6 (Conv2D)               (None, 18, 18, 256)  32768       add_157[0][0]                    \n",
            "__________________________________________________________________________________________________\n",
            "block3_pool (MaxPooling2D)      (None, 18, 18, 256)  0           block3_sepconv2_bn[0][0]         \n",
            "__________________________________________________________________________________________________\n",
            "batch_normalization_6 (BatchNor (None, 18, 18, 256)  1024        conv2d_6[0][0]                   \n",
            "__________________________________________________________________________________________________\n",
            "add_158 (Add)                   (None, 18, 18, 256)  0           block3_pool[0][0]                \n",
            "                                                                 batch_normalization_6[0][0]      \n",
            "__________________________________________________________________________________________________\n",
            "block4_sepconv1_act (Activation (None, 18, 18, 256)  0           add_158[0][0]                    \n",
            "__________________________________________________________________________________________________\n",
            "block4_sepconv1 (SeparableConv2 (None, 18, 18, 728)  188672      block4_sepconv1_act[0][0]        \n",
            "__________________________________________________________________________________________________\n",
            "block4_sepconv1_bn (BatchNormal (None, 18, 18, 728)  2912        block4_sepconv1[0][0]            \n",
            "__________________________________________________________________________________________________\n",
            "block4_sepconv2_act (Activation (None, 18, 18, 728)  0           block4_sepconv1_bn[0][0]         \n",
            "__________________________________________________________________________________________________\n",
            "block4_sepconv2 (SeparableConv2 (None, 18, 18, 728)  536536      block4_sepconv2_act[0][0]        \n",
            "__________________________________________________________________________________________________\n",
            "block4_sepconv2_bn (BatchNormal (None, 18, 18, 728)  2912        block4_sepconv2[0][0]            \n",
            "__________________________________________________________________________________________________\n",
            "conv2d_7 (Conv2D)               (None, 9, 9, 728)    186368      add_158[0][0]                    \n",
            "__________________________________________________________________________________________________\n",
            "block4_pool (MaxPooling2D)      (None, 9, 9, 728)    0           block4_sepconv2_bn[0][0]         \n",
            "__________________________________________________________________________________________________\n",
            "batch_normalization_7 (BatchNor (None, 9, 9, 728)    2912        conv2d_7[0][0]                   \n",
            "__________________________________________________________________________________________________\n",
            "add_159 (Add)                   (None, 9, 9, 728)    0           block4_pool[0][0]                \n",
            "                                                                 batch_normalization_7[0][0]      \n",
            "__________________________________________________________________________________________________\n",
            "block5_sepconv1_act (Activation (None, 9, 9, 728)    0           add_159[0][0]                    \n",
            "__________________________________________________________________________________________________\n",
            "block5_sepconv1 (SeparableConv2 (None, 9, 9, 728)    536536      block5_sepconv1_act[0][0]        \n",
            "__________________________________________________________________________________________________\n",
            "block5_sepconv1_bn (BatchNormal (None, 9, 9, 728)    2912        block5_sepconv1[0][0]            \n",
            "__________________________________________________________________________________________________\n",
            "block5_sepconv2_act (Activation (None, 9, 9, 728)    0           block5_sepconv1_bn[0][0]         \n",
            "__________________________________________________________________________________________________\n",
            "block5_sepconv2 (SeparableConv2 (None, 9, 9, 728)    536536      block5_sepconv2_act[0][0]        \n",
            "__________________________________________________________________________________________________\n",
            "block5_sepconv2_bn (BatchNormal (None, 9, 9, 728)    2912        block5_sepconv2[0][0]            \n",
            "__________________________________________________________________________________________________\n",
            "block5_sepconv3_act (Activation (None, 9, 9, 728)    0           block5_sepconv2_bn[0][0]         \n",
            "__________________________________________________________________________________________________\n",
            "block5_sepconv3 (SeparableConv2 (None, 9, 9, 728)    536536      block5_sepconv3_act[0][0]        \n",
            "__________________________________________________________________________________________________\n",
            "block5_sepconv3_bn (BatchNormal (None, 9, 9, 728)    2912        block5_sepconv3[0][0]            \n",
            "__________________________________________________________________________________________________\n",
            "add_160 (Add)                   (None, 9, 9, 728)    0           block5_sepconv3_bn[0][0]         \n",
            "                                                                 add_159[0][0]                    \n",
            "__________________________________________________________________________________________________\n",
            "block6_sepconv1_act (Activation (None, 9, 9, 728)    0           add_160[0][0]                    \n",
            "__________________________________________________________________________________________________\n",
            "block6_sepconv1 (SeparableConv2 (None, 9, 9, 728)    536536      block6_sepconv1_act[0][0]        \n",
            "__________________________________________________________________________________________________\n",
            "block6_sepconv1_bn (BatchNormal (None, 9, 9, 728)    2912        block6_sepconv1[0][0]            \n",
            "__________________________________________________________________________________________________\n",
            "block6_sepconv2_act (Activation (None, 9, 9, 728)    0           block6_sepconv1_bn[0][0]         \n",
            "__________________________________________________________________________________________________\n",
            "block6_sepconv2 (SeparableConv2 (None, 9, 9, 728)    536536      block6_sepconv2_act[0][0]        \n",
            "__________________________________________________________________________________________________\n",
            "block6_sepconv2_bn (BatchNormal (None, 9, 9, 728)    2912        block6_sepconv2[0][0]            \n",
            "__________________________________________________________________________________________________\n",
            "block6_sepconv3_act (Activation (None, 9, 9, 728)    0           block6_sepconv2_bn[0][0]         \n",
            "__________________________________________________________________________________________________\n",
            "block6_sepconv3 (SeparableConv2 (None, 9, 9, 728)    536536      block6_sepconv3_act[0][0]        \n",
            "__________________________________________________________________________________________________\n",
            "block6_sepconv3_bn (BatchNormal (None, 9, 9, 728)    2912        block6_sepconv3[0][0]            \n",
            "__________________________________________________________________________________________________\n",
            "add_161 (Add)                   (None, 9, 9, 728)    0           block6_sepconv3_bn[0][0]         \n",
            "                                                                 add_160[0][0]                    \n",
            "__________________________________________________________________________________________________\n",
            "block7_sepconv1_act (Activation (None, 9, 9, 728)    0           add_161[0][0]                    \n",
            "__________________________________________________________________________________________________\n",
            "block7_sepconv1 (SeparableConv2 (None, 9, 9, 728)    536536      block7_sepconv1_act[0][0]        \n",
            "__________________________________________________________________________________________________\n",
            "block7_sepconv1_bn (BatchNormal (None, 9, 9, 728)    2912        block7_sepconv1[0][0]            \n",
            "__________________________________________________________________________________________________\n",
            "block7_sepconv2_act (Activation (None, 9, 9, 728)    0           block7_sepconv1_bn[0][0]         \n",
            "__________________________________________________________________________________________________\n",
            "block7_sepconv2 (SeparableConv2 (None, 9, 9, 728)    536536      block7_sepconv2_act[0][0]        \n",
            "__________________________________________________________________________________________________\n",
            "block7_sepconv2_bn (BatchNormal (None, 9, 9, 728)    2912        block7_sepconv2[0][0]            \n",
            "__________________________________________________________________________________________________\n",
            "block7_sepconv3_act (Activation (None, 9, 9, 728)    0           block7_sepconv2_bn[0][0]         \n",
            "__________________________________________________________________________________________________\n",
            "block7_sepconv3 (SeparableConv2 (None, 9, 9, 728)    536536      block7_sepconv3_act[0][0]        \n",
            "__________________________________________________________________________________________________\n",
            "block7_sepconv3_bn (BatchNormal (None, 9, 9, 728)    2912        block7_sepconv3[0][0]            \n",
            "__________________________________________________________________________________________________\n",
            "add_162 (Add)                   (None, 9, 9, 728)    0           block7_sepconv3_bn[0][0]         \n",
            "                                                                 add_161[0][0]                    \n",
            "__________________________________________________________________________________________________\n",
            "block8_sepconv1_act (Activation (None, 9, 9, 728)    0           add_162[0][0]                    \n",
            "__________________________________________________________________________________________________\n",
            "block8_sepconv1 (SeparableConv2 (None, 9, 9, 728)    536536      block8_sepconv1_act[0][0]        \n",
            "__________________________________________________________________________________________________\n",
            "block8_sepconv1_bn (BatchNormal (None, 9, 9, 728)    2912        block8_sepconv1[0][0]            \n",
            "__________________________________________________________________________________________________\n",
            "block8_sepconv2_act (Activation (None, 9, 9, 728)    0           block8_sepconv1_bn[0][0]         \n",
            "__________________________________________________________________________________________________\n",
            "block8_sepconv2 (SeparableConv2 (None, 9, 9, 728)    536536      block8_sepconv2_act[0][0]        \n",
            "__________________________________________________________________________________________________\n",
            "block8_sepconv2_bn (BatchNormal (None, 9, 9, 728)    2912        block8_sepconv2[0][0]            \n",
            "__________________________________________________________________________________________________\n",
            "block8_sepconv3_act (Activation (None, 9, 9, 728)    0           block8_sepconv2_bn[0][0]         \n",
            "__________________________________________________________________________________________________\n",
            "block8_sepconv3 (SeparableConv2 (None, 9, 9, 728)    536536      block8_sepconv3_act[0][0]        \n",
            "__________________________________________________________________________________________________\n",
            "block8_sepconv3_bn (BatchNormal (None, 9, 9, 728)    2912        block8_sepconv3[0][0]            \n",
            "__________________________________________________________________________________________________\n",
            "add_163 (Add)                   (None, 9, 9, 728)    0           block8_sepconv3_bn[0][0]         \n",
            "                                                                 add_162[0][0]                    \n",
            "__________________________________________________________________________________________________\n",
            "block9_sepconv1_act (Activation (None, 9, 9, 728)    0           add_163[0][0]                    \n",
            "__________________________________________________________________________________________________\n",
            "block9_sepconv1 (SeparableConv2 (None, 9, 9, 728)    536536      block9_sepconv1_act[0][0]        \n",
            "__________________________________________________________________________________________________\n",
            "block9_sepconv1_bn (BatchNormal (None, 9, 9, 728)    2912        block9_sepconv1[0][0]            \n",
            "__________________________________________________________________________________________________\n",
            "block9_sepconv2_act (Activation (None, 9, 9, 728)    0           block9_sepconv1_bn[0][0]         \n",
            "__________________________________________________________________________________________________\n",
            "block9_sepconv2 (SeparableConv2 (None, 9, 9, 728)    536536      block9_sepconv2_act[0][0]        \n",
            "__________________________________________________________________________________________________\n",
            "block9_sepconv2_bn (BatchNormal (None, 9, 9, 728)    2912        block9_sepconv2[0][0]            \n",
            "__________________________________________________________________________________________________\n",
            "block9_sepconv3_act (Activation (None, 9, 9, 728)    0           block9_sepconv2_bn[0][0]         \n",
            "__________________________________________________________________________________________________\n",
            "block9_sepconv3 (SeparableConv2 (None, 9, 9, 728)    536536      block9_sepconv3_act[0][0]        \n",
            "__________________________________________________________________________________________________\n",
            "block9_sepconv3_bn (BatchNormal (None, 9, 9, 728)    2912        block9_sepconv3[0][0]            \n",
            "__________________________________________________________________________________________________\n",
            "add_164 (Add)                   (None, 9, 9, 728)    0           block9_sepconv3_bn[0][0]         \n",
            "                                                                 add_163[0][0]                    \n",
            "__________________________________________________________________________________________________\n",
            "block10_sepconv1_act (Activatio (None, 9, 9, 728)    0           add_164[0][0]                    \n",
            "__________________________________________________________________________________________________\n",
            "block10_sepconv1 (SeparableConv (None, 9, 9, 728)    536536      block10_sepconv1_act[0][0]       \n",
            "__________________________________________________________________________________________________\n",
            "block10_sepconv1_bn (BatchNorma (None, 9, 9, 728)    2912        block10_sepconv1[0][0]           \n",
            "__________________________________________________________________________________________________\n",
            "block10_sepconv2_act (Activatio (None, 9, 9, 728)    0           block10_sepconv1_bn[0][0]        \n",
            "__________________________________________________________________________________________________\n",
            "block10_sepconv2 (SeparableConv (None, 9, 9, 728)    536536      block10_sepconv2_act[0][0]       \n",
            "__________________________________________________________________________________________________\n",
            "block10_sepconv2_bn (BatchNorma (None, 9, 9, 728)    2912        block10_sepconv2[0][0]           \n",
            "__________________________________________________________________________________________________\n",
            "block10_sepconv3_act (Activatio (None, 9, 9, 728)    0           block10_sepconv2_bn[0][0]        \n",
            "__________________________________________________________________________________________________\n",
            "block10_sepconv3 (SeparableConv (None, 9, 9, 728)    536536      block10_sepconv3_act[0][0]       \n",
            "__________________________________________________________________________________________________\n",
            "block10_sepconv3_bn (BatchNorma (None, 9, 9, 728)    2912        block10_sepconv3[0][0]           \n",
            "__________________________________________________________________________________________________\n",
            "add_165 (Add)                   (None, 9, 9, 728)    0           block10_sepconv3_bn[0][0]        \n",
            "                                                                 add_164[0][0]                    \n",
            "__________________________________________________________________________________________________\n",
            "block11_sepconv1_act (Activatio (None, 9, 9, 728)    0           add_165[0][0]                    \n",
            "__________________________________________________________________________________________________\n",
            "block11_sepconv1 (SeparableConv (None, 9, 9, 728)    536536      block11_sepconv1_act[0][0]       \n",
            "__________________________________________________________________________________________________\n",
            "block11_sepconv1_bn (BatchNorma (None, 9, 9, 728)    2912        block11_sepconv1[0][0]           \n",
            "__________________________________________________________________________________________________\n",
            "block11_sepconv2_act (Activatio (None, 9, 9, 728)    0           block11_sepconv1_bn[0][0]        \n",
            "__________________________________________________________________________________________________\n",
            "block11_sepconv2 (SeparableConv (None, 9, 9, 728)    536536      block11_sepconv2_act[0][0]       \n",
            "__________________________________________________________________________________________________\n",
            "block11_sepconv2_bn (BatchNorma (None, 9, 9, 728)    2912        block11_sepconv2[0][0]           \n",
            "__________________________________________________________________________________________________\n",
            "block11_sepconv3_act (Activatio (None, 9, 9, 728)    0           block11_sepconv2_bn[0][0]        \n",
            "__________________________________________________________________________________________________\n",
            "block11_sepconv3 (SeparableConv (None, 9, 9, 728)    536536      block11_sepconv3_act[0][0]       \n",
            "__________________________________________________________________________________________________\n",
            "block11_sepconv3_bn (BatchNorma (None, 9, 9, 728)    2912        block11_sepconv3[0][0]           \n",
            "__________________________________________________________________________________________________\n",
            "add_166 (Add)                   (None, 9, 9, 728)    0           block11_sepconv3_bn[0][0]        \n",
            "                                                                 add_165[0][0]                    \n",
            "__________________________________________________________________________________________________\n",
            "block12_sepconv1_act (Activatio (None, 9, 9, 728)    0           add_166[0][0]                    \n",
            "__________________________________________________________________________________________________\n",
            "block12_sepconv1 (SeparableConv (None, 9, 9, 728)    536536      block12_sepconv1_act[0][0]       \n",
            "__________________________________________________________________________________________________\n",
            "block12_sepconv1_bn (BatchNorma (None, 9, 9, 728)    2912        block12_sepconv1[0][0]           \n",
            "__________________________________________________________________________________________________\n",
            "block12_sepconv2_act (Activatio (None, 9, 9, 728)    0           block12_sepconv1_bn[0][0]        \n",
            "__________________________________________________________________________________________________\n",
            "block12_sepconv2 (SeparableConv (None, 9, 9, 728)    536536      block12_sepconv2_act[0][0]       \n",
            "__________________________________________________________________________________________________\n",
            "block12_sepconv2_bn (BatchNorma (None, 9, 9, 728)    2912        block12_sepconv2[0][0]           \n",
            "__________________________________________________________________________________________________\n",
            "block12_sepconv3_act (Activatio (None, 9, 9, 728)    0           block12_sepconv2_bn[0][0]        \n",
            "__________________________________________________________________________________________________\n",
            "block12_sepconv3 (SeparableConv (None, 9, 9, 728)    536536      block12_sepconv3_act[0][0]       \n",
            "__________________________________________________________________________________________________\n",
            "block12_sepconv3_bn (BatchNorma (None, 9, 9, 728)    2912        block12_sepconv3[0][0]           \n",
            "__________________________________________________________________________________________________\n",
            "add_167 (Add)                   (None, 9, 9, 728)    0           block12_sepconv3_bn[0][0]        \n",
            "                                                                 add_166[0][0]                    \n",
            "__________________________________________________________________________________________________\n",
            "block13_sepconv1_act (Activatio (None, 9, 9, 728)    0           add_167[0][0]                    \n",
            "__________________________________________________________________________________________________\n",
            "block13_sepconv1 (SeparableConv (None, 9, 9, 728)    536536      block13_sepconv1_act[0][0]       \n",
            "__________________________________________________________________________________________________\n",
            "block13_sepconv1_bn (BatchNorma (None, 9, 9, 728)    2912        block13_sepconv1[0][0]           \n",
            "__________________________________________________________________________________________________\n",
            "block13_sepconv2_act (Activatio (None, 9, 9, 728)    0           block13_sepconv1_bn[0][0]        \n",
            "__________________________________________________________________________________________________\n",
            "block13_sepconv2 (SeparableConv (None, 9, 9, 1024)   752024      block13_sepconv2_act[0][0]       \n",
            "__________________________________________________________________________________________________\n",
            "block13_sepconv2_bn (BatchNorma (None, 9, 9, 1024)   4096        block13_sepconv2[0][0]           \n",
            "__________________________________________________________________________________________________\n",
            "conv2d_8 (Conv2D)               (None, 5, 5, 1024)   745472      add_167[0][0]                    \n",
            "__________________________________________________________________________________________________\n",
            "block13_pool (MaxPooling2D)     (None, 5, 5, 1024)   0           block13_sepconv2_bn[0][0]        \n",
            "__________________________________________________________________________________________________\n",
            "batch_normalization_8 (BatchNor (None, 5, 5, 1024)   4096        conv2d_8[0][0]                   \n",
            "__________________________________________________________________________________________________\n",
            "add_168 (Add)                   (None, 5, 5, 1024)   0           block13_pool[0][0]               \n",
            "                                                                 batch_normalization_8[0][0]      \n",
            "__________________________________________________________________________________________________\n",
            "block14_sepconv1 (SeparableConv (None, 5, 5, 1536)   1582080     add_168[0][0]                    \n",
            "__________________________________________________________________________________________________\n",
            "block14_sepconv1_bn (BatchNorma (None, 5, 5, 1536)   6144        block14_sepconv1[0][0]           \n",
            "__________________________________________________________________________________________________\n",
            "block14_sepconv1_act (Activatio (None, 5, 5, 1536)   0           block14_sepconv1_bn[0][0]        \n",
            "__________________________________________________________________________________________________\n",
            "block14_sepconv2 (SeparableConv (None, 5, 5, 2048)   3159552     block14_sepconv1_act[0][0]       \n",
            "__________________________________________________________________________________________________\n",
            "block14_sepconv2_bn (BatchNorma (None, 5, 5, 2048)   8192        block14_sepconv2[0][0]           \n",
            "__________________________________________________________________________________________________\n",
            "block14_sepconv2_act (Activatio (None, 5, 5, 2048)   0           block14_sepconv2_bn[0][0]        \n",
            "==================================================================================================\n",
            "Total params: 20,861,480\n",
            "Trainable params: 20,806,952\n",
            "Non-trainable params: 54,528\n",
            "__________________________________________________________________________________________________\n"
          ],
          "name": "stdout"
        }
      ]
    },
    {
      "cell_type": "markdown",
      "metadata": {
        "id": "D6OBHOO9q1ou",
        "colab_type": "text"
      },
      "source": [
        "### Freeze the convolutional base"
      ]
    },
    {
      "cell_type": "code",
      "metadata": {
        "id": "UleRo4Dpq6Ld",
        "colab_type": "code",
        "colab": {}
      },
      "source": [
        "conv_base.trainable = False"
      ],
      "execution_count": 0,
      "outputs": []
    },
    {
      "cell_type": "markdown",
      "metadata": {
        "id": "Qfx6PqhPrb7Q",
        "colab_type": "text"
      },
      "source": [
        "### Concatenate the convolutional base and densely connected layers"
      ]
    },
    {
      "cell_type": "markdown",
      "metadata": {
        "id": "e_uFgk3E7YNU",
        "colab_type": "text"
      },
      "source": [
        "Reasoning for choices:\n",
        "Initially tried to lower the lr to 1e-6 but this was causing the val_acc to stay at .5 and also reduced other metrics. 1e-5 works well. The lower lr DOES work after unfreezing the conv_base layers. I assume this is because there are more trainable weights then so even if the lr is small it still effects a lot more. \n",
        "I attempted to lower the amount of nodes in the dense layers but this lead to severe underfitting\n",
        "\n",
        "Additionally, these changes were made with the ResNet50 model. After changing to Xception the results have been much better. "
      ]
    },
    {
      "cell_type": "code",
      "metadata": {
        "id": "qUpmocDAO3xm",
        "colab_type": "code",
        "colab": {}
      },
      "source": [
        "from keras import layers\n",
        "from keras import models\n",
        "from keras import optimizers\n",
        "\n",
        "model = models.Sequential()\n",
        "model.add(conv_base)\n",
        "model.add(layers.Flatten())\n",
        "# I tried adding another dense and dropout layer with ResNet50 but the results were poor\n",
        "model.add(layers.Dense(256, activation='relu'))\n",
        "model.add(layers.Dropout(0.2))\n",
        "model.add(layers.Dense(128, activation='tanh'))\n",
        "model.add(layers.Dropout(0.1))\n",
        "model.add(layers.Dense(1, activation='sigmoid'))"
      ],
      "execution_count": 0,
      "outputs": []
    },
    {
      "cell_type": "code",
      "metadata": {
        "id": "Fh6gZSeAjF7c",
        "colab_type": "code",
        "outputId": "eb45a763-880d-4ce6-e6b6-f87b5fc3d2ac",
        "colab": {
          "base_uri": "https://localhost:8080/",
          "height": 386
        }
      },
      "source": [
        "model.summary()"
      ],
      "execution_count": 0,
      "outputs": [
        {
          "output_type": "stream",
          "text": [
            "Model: \"sequential_14\"\n",
            "_________________________________________________________________\n",
            "Layer (type)                 Output Shape              Param #   \n",
            "=================================================================\n",
            "xception (Model)             (None, 5, 5, 2048)        20861480  \n",
            "_________________________________________________________________\n",
            "flatten_14 (Flatten)         (None, 51200)             0         \n",
            "_________________________________________________________________\n",
            "dense_31 (Dense)             (None, 256)               13107456  \n",
            "_________________________________________________________________\n",
            "dropout_15 (Dropout)         (None, 256)               0         \n",
            "_________________________________________________________________\n",
            "dense_32 (Dense)             (None, 128)               32896     \n",
            "_________________________________________________________________\n",
            "dropout_16 (Dropout)         (None, 128)               0         \n",
            "_________________________________________________________________\n",
            "dense_33 (Dense)             (None, 1)                 129       \n",
            "=================================================================\n",
            "Total params: 34,001,961\n",
            "Trainable params: 13,140,481\n",
            "Non-trainable params: 20,861,480\n",
            "_________________________________________________________________\n"
          ],
          "name": "stdout"
        }
      ]
    },
    {
      "cell_type": "markdown",
      "metadata": {
        "id": "eZjBiddhi5Qj",
        "colab_type": "text"
      },
      "source": [
        "## Train the model end to end with frozen convolutional base"
      ]
    },
    {
      "cell_type": "code",
      "metadata": {
        "id": "tfAQlC2Oi41L",
        "colab_type": "code",
        "outputId": "0ba8da22-25cb-403a-d208-07cc1eec028e",
        "colab": {
          "base_uri": "https://localhost:8080/",
          "height": 1000
        }
      },
      "source": [
        "from keras.preprocessing.image import ImageDataGenerator\n",
        "from keras import optimizers\n",
        "\n",
        "# data augmentation\n",
        "\n",
        "train_datagen = ImageDataGenerator(\n",
        "    rescale=1./255, \n",
        "    rotation_range=40,\n",
        "    width_shift_range=0.2,\n",
        "    height_shift_range=0.2,\n",
        "    shear_range=0.2,\n",
        "    zoom_range=0.2,\n",
        "    horizontal_flip=True,\n",
        "    fill_mode='nearest'\n",
        ")\n",
        "\n",
        "train_generator = train_datagen.flow_from_directory(\n",
        "    train_dir,\n",
        "    target_size=(150, 150),\n",
        "    batch_size=20,\n",
        "    class_mode='binary')\n",
        "\n",
        "validation_datagen = ImageDataGenerator(rescale=1./255)\n",
        "\n",
        "validation_generator = validation_datagen.flow_from_directory(\n",
        "    validation_dir,\n",
        "    target_size=(150, 150),\n",
        "    batch_size=20,\n",
        "    class_mode='binary')\n",
        "\n",
        "# compile model\n",
        "\n",
        "model.compile(\n",
        "    loss='binary_crossentropy',  \n",
        "    optimizer=optimizers.RMSprop(lr=2e-5), \n",
        "    metrics=['acc'])\n",
        "\n",
        "# train\n",
        "\n",
        "history = model.fit_generator(\n",
        "    train_generator,\n",
        "    steps_per_epoch=100,\n",
        "    epochs=30,\n",
        "    validation_data=validation_generator,\n",
        "    validation_steps=50\n",
        ")"
      ],
      "execution_count": 0,
      "outputs": [
        {
          "output_type": "stream",
          "text": [
            "Found 2000 images belonging to 2 classes.\n",
            "Found 1000 images belonging to 2 classes.\n",
            "Epoch 1/30\n",
            "100/100 [==============================] - 20s 203ms/step - loss: 0.4689 - acc: 0.7625 - val_loss: 0.2264 - val_acc: 0.9270\n",
            "Epoch 2/30\n",
            "100/100 [==============================] - 18s 175ms/step - loss: 0.3864 - acc: 0.8190 - val_loss: 0.0206 - val_acc: 0.9660\n",
            "Epoch 3/30\n",
            "100/100 [==============================] - 17s 174ms/step - loss: 0.3632 - acc: 0.8320 - val_loss: 0.2034 - val_acc: 0.9670\n",
            "Epoch 4/30\n",
            "100/100 [==============================] - 17s 170ms/step - loss: 0.3477 - acc: 0.8365 - val_loss: 0.0048 - val_acc: 0.9660\n",
            "Epoch 5/30\n",
            "100/100 [==============================] - 17s 171ms/step - loss: 0.3438 - acc: 0.8385 - val_loss: 0.0116 - val_acc: 0.9710\n",
            "Epoch 6/30\n",
            "100/100 [==============================] - 17s 173ms/step - loss: 0.3167 - acc: 0.8495 - val_loss: 0.2483 - val_acc: 0.9670\n",
            "Epoch 7/30\n",
            "100/100 [==============================] - 17s 173ms/step - loss: 0.3232 - acc: 0.8470 - val_loss: 0.0135 - val_acc: 0.9690\n",
            "Epoch 8/30\n",
            "100/100 [==============================] - 17s 173ms/step - loss: 0.3094 - acc: 0.8550 - val_loss: 0.0051 - val_acc: 0.9670\n",
            "Epoch 9/30\n",
            "100/100 [==============================] - 17s 172ms/step - loss: 0.3469 - acc: 0.8400 - val_loss: 0.0012 - val_acc: 0.9720\n",
            "Epoch 10/30\n",
            "100/100 [==============================] - 17s 172ms/step - loss: 0.3162 - acc: 0.8535 - val_loss: 0.0104 - val_acc: 0.9720\n",
            "Epoch 11/30\n",
            "100/100 [==============================] - 17s 170ms/step - loss: 0.3144 - acc: 0.8510 - val_loss: 5.6910e-04 - val_acc: 0.9690\n",
            "Epoch 12/30\n",
            "100/100 [==============================] - 17s 171ms/step - loss: 0.2836 - acc: 0.8735 - val_loss: 0.1643 - val_acc: 0.9640\n",
            "Epoch 13/30\n",
            "100/100 [==============================] - 17s 172ms/step - loss: 0.2958 - acc: 0.8725 - val_loss: 0.0113 - val_acc: 0.9710\n",
            "Epoch 14/30\n",
            "100/100 [==============================] - 17s 172ms/step - loss: 0.2850 - acc: 0.8755 - val_loss: 0.0085 - val_acc: 0.9730\n",
            "Epoch 15/30\n",
            "100/100 [==============================] - 17s 171ms/step - loss: 0.2972 - acc: 0.8635 - val_loss: 0.1475 - val_acc: 0.9700\n",
            "Epoch 16/30\n",
            "100/100 [==============================] - 17s 171ms/step - loss: 0.2792 - acc: 0.8765 - val_loss: 0.0286 - val_acc: 0.9710\n",
            "Epoch 17/30\n",
            "100/100 [==============================] - 17s 171ms/step - loss: 0.2836 - acc: 0.8690 - val_loss: 0.0602 - val_acc: 0.9700\n",
            "Epoch 18/30\n",
            "100/100 [==============================] - 17s 170ms/step - loss: 0.3051 - acc: 0.8570 - val_loss: 0.1851 - val_acc: 0.9720\n",
            "Epoch 19/30\n",
            "100/100 [==============================] - 17s 173ms/step - loss: 0.2940 - acc: 0.8730 - val_loss: 0.2627 - val_acc: 0.9680\n",
            "Epoch 20/30\n",
            "100/100 [==============================] - 17s 171ms/step - loss: 0.2929 - acc: 0.8650 - val_loss: 0.0011 - val_acc: 0.9700\n",
            "Epoch 21/30\n",
            "100/100 [==============================] - 17s 171ms/step - loss: 0.2811 - acc: 0.8700 - val_loss: 0.0458 - val_acc: 0.9710\n",
            "Epoch 22/30\n",
            "100/100 [==============================] - 17s 171ms/step - loss: 0.2799 - acc: 0.8850 - val_loss: 0.1203 - val_acc: 0.9720\n",
            "Epoch 23/30\n",
            "100/100 [==============================] - 17s 171ms/step - loss: 0.2658 - acc: 0.8860 - val_loss: 0.0069 - val_acc: 0.9710\n",
            "Epoch 24/30\n",
            "100/100 [==============================] - 17s 171ms/step - loss: 0.2969 - acc: 0.8645 - val_loss: 0.0603 - val_acc: 0.9720\n",
            "Epoch 25/30\n",
            "100/100 [==============================] - 17s 170ms/step - loss: 0.2688 - acc: 0.8735 - val_loss: 0.1047 - val_acc: 0.9650\n",
            "Epoch 26/30\n",
            "100/100 [==============================] - 17s 171ms/step - loss: 0.2788 - acc: 0.8730 - val_loss: 1.1967e-04 - val_acc: 0.9660\n",
            "Epoch 27/30\n",
            "100/100 [==============================] - 17s 171ms/step - loss: 0.2943 - acc: 0.8755 - val_loss: 0.3240 - val_acc: 0.9560\n",
            "Epoch 28/30\n",
            "100/100 [==============================] - 17s 170ms/step - loss: 0.2668 - acc: 0.8810 - val_loss: 0.2329 - val_acc: 0.9530\n",
            "Epoch 29/30\n",
            "100/100 [==============================] - 17s 170ms/step - loss: 0.2919 - acc: 0.8695 - val_loss: 0.0019 - val_acc: 0.9610\n",
            "Epoch 30/30\n",
            "100/100 [==============================] - 17s 170ms/step - loss: 0.2752 - acc: 0.8845 - val_loss: 0.0211 - val_acc: 0.9660\n"
          ],
          "name": "stdout"
        }
      ]
    },
    {
      "cell_type": "markdown",
      "metadata": {
        "id": "xqRc_vHKc92U",
        "colab_type": "text"
      },
      "source": [
        "## Display curves of loss and accuracy during training"
      ]
    },
    {
      "cell_type": "code",
      "metadata": {
        "id": "ybWwdzz9bwuQ",
        "colab_type": "code",
        "outputId": "2a895781-c15a-4225-be98-136712341dad",
        "colab": {
          "base_uri": "https://localhost:8080/",
          "height": 545
        }
      },
      "source": [
        "%matplotlib inline\n",
        "\n",
        "import matplotlib.pyplot as plt\n",
        "\n",
        "acc = history.history['acc']\n",
        "val_acc = history.history['val_acc']\n",
        "\n",
        "loss = history.history['loss']\n",
        "val_loss = history.history['val_loss']\n",
        "\n",
        "epochs = range(1, len(acc) + 1)\n",
        "\n",
        "# training and validation accuracy\n",
        "\n",
        "plt.plot(epochs, acc, 'bo', label='training acc')\n",
        "plt.plot(epochs, val_acc, 'b', label='validation acc')\n",
        "plt.title('training and validation accuracy')\n",
        "plt.legend()\n",
        "\n",
        "plt.figure()\n",
        "\n",
        "# training and validation loss\n",
        "\n",
        "plt.plot(epochs, loss, 'bo', label='training loss')\n",
        "plt.plot(epochs, val_loss, 'b', label='validation loss')\n",
        "plt.title('training and validation loss')\n",
        "plt.legend()\n",
        "\n",
        "plt.show()"
      ],
      "execution_count": 0,
      "outputs": [
        {
          "output_type": "display_data",
          "data": {
            "image/png": "[encoded data removed]",
            "text/plain": [
              "<Figure size 432x288 with 1 Axes>"
            ]
          },
          "metadata": {
            "tags": [],
            "needs_background": "light"
          }
        },
        {
          "output_type": "display_data",
          "data": {
            "image/png": "[encoded data removed]",
            "text/plain": [
              "<Figure size 432x288 with 1 Axes>"
            ]
          },
          "metadata": {
            "tags": [],
            "needs_background": "light"
          }
        }
      ]
    },
    {
      "cell_type": "markdown",
      "metadata": {
        "id": "lOWsxpey8lN0",
        "colab_type": "text"
      },
      "source": [
        "## Fine-tuning"
      ]
    },
    {
      "cell_type": "code",
      "metadata": {
        "id": "PwkVMx8N8qMw",
        "colab_type": "code",
        "colab": {}
      },
      "source": [
        "conv_base.trainable = True\n",
        "\n",
        "\n",
        "for layer in conv_base.layers:\n",
        "  if layer.name == 'block1_conv1' or layer.name == 'block1_conv2':\n",
        "    layer.trainable = True;"
      ],
      "execution_count": 0,
      "outputs": []
    },
    {
      "cell_type": "code",
      "metadata": {
        "id": "DyN-J7rs9cvo",
        "colab_type": "code",
        "outputId": "9997864c-1993-40e8-fe52-88d760a1a7c5",
        "colab": {
          "base_uri": "https://localhost:8080/",
          "height": 1000
        }
      },
      "source": [
        "# compile model\n",
        "\n",
        "model.compile(\n",
        "    loss='binary_crossentropy',\n",
        "    #\n",
        "    # choose a smaller learning rate\n",
        "    #\n",
        "    optimizer=optimizers.RMSprop(lr=1e-6), \n",
        "    metrics=['acc'])\n",
        "\n",
        "# train\n",
        "\n",
        "history = model.fit_generator(\n",
        "    train_generator,\n",
        "    steps_per_epoch=100,\n",
        "    epochs=100,\n",
        "    validation_data=validation_generator,\n",
        "    validation_steps=50)"
      ],
      "execution_count": 0,
      "outputs": [
        {
          "output_type": "stream",
          "text": [
            "Epoch 1/100\n",
            "100/100 [==============================] - 33s 328ms/step - loss: 0.2560 - acc: 0.8855 - val_loss: 0.1100 - val_acc: 0.9430\n",
            "Epoch 2/100\n",
            "100/100 [==============================] - 23s 233ms/step - loss: 0.2581 - acc: 0.8815 - val_loss: 0.0587 - val_acc: 0.9350\n",
            "Epoch 3/100\n",
            "100/100 [==============================] - 23s 233ms/step - loss: 0.2600 - acc: 0.8840 - val_loss: 0.0239 - val_acc: 0.9380\n",
            "Epoch 4/100\n",
            "100/100 [==============================] - 23s 233ms/step - loss: 0.2545 - acc: 0.8890 - val_loss: 0.3018 - val_acc: 0.9410\n",
            "Epoch 5/100\n",
            "100/100 [==============================] - 24s 235ms/step - loss: 0.2396 - acc: 0.8955 - val_loss: 0.4008 - val_acc: 0.9400\n",
            "Epoch 6/100\n",
            "100/100 [==============================] - 23s 232ms/step - loss: 0.2342 - acc: 0.8970 - val_loss: 0.2743 - val_acc: 0.9380\n",
            "Epoch 7/100\n",
            "100/100 [==============================] - 23s 234ms/step - loss: 0.2330 - acc: 0.8990 - val_loss: 0.4280 - val_acc: 0.9390\n",
            "Epoch 8/100\n",
            "100/100 [==============================] - 23s 234ms/step - loss: 0.2295 - acc: 0.8980 - val_loss: 0.3698 - val_acc: 0.9390\n",
            "Epoch 9/100\n",
            "100/100 [==============================] - 23s 232ms/step - loss: 0.2298 - acc: 0.8980 - val_loss: 0.3656 - val_acc: 0.9400\n",
            "Epoch 10/100\n",
            "100/100 [==============================] - 23s 233ms/step - loss: 0.2410 - acc: 0.8995 - val_loss: 0.1597 - val_acc: 0.9410\n",
            "Epoch 11/100\n",
            "100/100 [==============================] - 23s 233ms/step - loss: 0.2435 - acc: 0.8975 - val_loss: 0.0662 - val_acc: 0.9410\n",
            "Epoch 12/100\n",
            "100/100 [==============================] - 23s 233ms/step - loss: 0.2191 - acc: 0.9060 - val_loss: 0.2555 - val_acc: 0.9410\n",
            "Epoch 13/100\n",
            "100/100 [==============================] - 23s 232ms/step - loss: 0.2358 - acc: 0.8965 - val_loss: 0.1766 - val_acc: 0.9430\n",
            "Epoch 14/100\n",
            "100/100 [==============================] - 23s 234ms/step - loss: 0.2308 - acc: 0.8990 - val_loss: 0.0823 - val_acc: 0.9410\n",
            "Epoch 15/100\n",
            "100/100 [==============================] - 23s 233ms/step - loss: 0.2309 - acc: 0.8985 - val_loss: 0.0727 - val_acc: 0.9420\n",
            "Epoch 16/100\n",
            "100/100 [==============================] - 23s 233ms/step - loss: 0.2136 - acc: 0.9145 - val_loss: 0.0568 - val_acc: 0.9410\n",
            "Epoch 17/100\n",
            "100/100 [==============================] - 23s 234ms/step - loss: 0.2206 - acc: 0.9100 - val_loss: 0.1307 - val_acc: 0.9420\n",
            "Epoch 18/100\n",
            "100/100 [==============================] - 23s 234ms/step - loss: 0.2157 - acc: 0.9095 - val_loss: 0.1989 - val_acc: 0.9440\n",
            "Epoch 19/100\n",
            "100/100 [==============================] - 23s 232ms/step - loss: 0.2241 - acc: 0.9040 - val_loss: 0.3722 - val_acc: 0.9430\n",
            "Epoch 20/100\n",
            "100/100 [==============================] - 23s 232ms/step - loss: 0.2082 - acc: 0.9130 - val_loss: 0.0637 - val_acc: 0.9430\n",
            "Epoch 21/100\n",
            "100/100 [==============================] - 23s 233ms/step - loss: 0.1820 - acc: 0.9270 - val_loss: 0.3583 - val_acc: 0.9430\n",
            "Epoch 22/100\n",
            "100/100 [==============================] - 23s 233ms/step - loss: 0.2045 - acc: 0.9190 - val_loss: 0.0543 - val_acc: 0.9440\n",
            "Epoch 23/100\n",
            "100/100 [==============================] - 23s 232ms/step - loss: 0.2051 - acc: 0.9070 - val_loss: 0.1108 - val_acc: 0.9440\n",
            "Epoch 24/100\n",
            "100/100 [==============================] - 23s 233ms/step - loss: 0.2246 - acc: 0.9100 - val_loss: 0.2546 - val_acc: 0.9430\n",
            "Epoch 25/100\n",
            "100/100 [==============================] - 23s 232ms/step - loss: 0.2237 - acc: 0.8980 - val_loss: 0.0770 - val_acc: 0.9440\n",
            "Epoch 26/100\n",
            "100/100 [==============================] - 23s 233ms/step - loss: 0.2403 - acc: 0.8970 - val_loss: 0.1274 - val_acc: 0.9490\n",
            "Epoch 27/100\n",
            "100/100 [==============================] - 23s 233ms/step - loss: 0.1927 - acc: 0.9255 - val_loss: 0.1179 - val_acc: 0.9440\n",
            "Epoch 28/100\n",
            "100/100 [==============================] - 23s 233ms/step - loss: 0.2005 - acc: 0.9090 - val_loss: 0.1817 - val_acc: 0.9450\n",
            "Epoch 29/100\n",
            "100/100 [==============================] - 23s 233ms/step - loss: 0.2014 - acc: 0.9165 - val_loss: 0.4669 - val_acc: 0.9450\n",
            "Epoch 30/100\n",
            "100/100 [==============================] - 23s 233ms/step - loss: 0.2259 - acc: 0.8990 - val_loss: 0.4829 - val_acc: 0.9470\n",
            "Epoch 31/100\n",
            "100/100 [==============================] - 23s 234ms/step - loss: 0.1863 - acc: 0.9190 - val_loss: 0.0513 - val_acc: 0.9480\n",
            "Epoch 32/100\n",
            "100/100 [==============================] - 23s 234ms/step - loss: 0.2016 - acc: 0.9150 - val_loss: 0.3152 - val_acc: 0.9450\n",
            "Epoch 33/100\n",
            "100/100 [==============================] - 23s 233ms/step - loss: 0.1956 - acc: 0.9205 - val_loss: 0.0937 - val_acc: 0.9480\n",
            "Epoch 34/100\n",
            "100/100 [==============================] - 23s 233ms/step - loss: 0.2083 - acc: 0.9140 - val_loss: 0.1512 - val_acc: 0.9480\n",
            "Epoch 35/100\n",
            "100/100 [==============================] - 23s 234ms/step - loss: 0.2103 - acc: 0.9140 - val_loss: 0.0137 - val_acc: 0.9490\n",
            "Epoch 36/100\n",
            "100/100 [==============================] - 23s 234ms/step - loss: 0.2027 - acc: 0.9180 - val_loss: 0.3404 - val_acc: 0.9490\n",
            "Epoch 37/100\n",
            "100/100 [==============================] - 23s 232ms/step - loss: 0.2090 - acc: 0.9165 - val_loss: 0.1284 - val_acc: 0.9500\n",
            "Epoch 38/100\n",
            "100/100 [==============================] - 23s 233ms/step - loss: 0.1767 - acc: 0.9280 - val_loss: 0.4057 - val_acc: 0.9490\n",
            "Epoch 39/100\n",
            "100/100 [==============================] - 23s 233ms/step - loss: 0.1928 - acc: 0.9165 - val_loss: 0.0153 - val_acc: 0.9470\n",
            "Epoch 40/100\n",
            "100/100 [==============================] - 23s 232ms/step - loss: 0.1761 - acc: 0.9315 - val_loss: 0.1022 - val_acc: 0.9480\n",
            "Epoch 41/100\n",
            "100/100 [==============================] - 23s 232ms/step - loss: 0.1784 - acc: 0.9240 - val_loss: 0.2987 - val_acc: 0.9480\n",
            "Epoch 42/100\n",
            "100/100 [==============================] - 23s 233ms/step - loss: 0.1622 - acc: 0.9320 - val_loss: 0.0116 - val_acc: 0.9500\n",
            "Epoch 43/100\n",
            "100/100 [==============================] - 23s 233ms/step - loss: 0.1591 - acc: 0.9365 - val_loss: 0.0427 - val_acc: 0.9500\n",
            "Epoch 44/100\n",
            "100/100 [==============================] - 23s 230ms/step - loss: 0.1817 - acc: 0.9270 - val_loss: 0.0282 - val_acc: 0.9480\n",
            "Epoch 45/100\n",
            "100/100 [==============================] - 23s 234ms/step - loss: 0.1592 - acc: 0.9340 - val_loss: 0.0367 - val_acc: 0.9470\n",
            "Epoch 46/100\n",
            "100/100 [==============================] - 23s 233ms/step - loss: 0.1635 - acc: 0.9305 - val_loss: 0.0386 - val_acc: 0.9490\n",
            "Epoch 47/100\n",
            "100/100 [==============================] - 23s 232ms/step - loss: 0.1832 - acc: 0.9200 - val_loss: 0.0196 - val_acc: 0.9470\n",
            "Epoch 48/100\n",
            "100/100 [==============================] - 23s 234ms/step - loss: 0.1510 - acc: 0.9370 - val_loss: 0.0919 - val_acc: 0.9500\n",
            "Epoch 49/100\n",
            "100/100 [==============================] - 23s 232ms/step - loss: 0.1517 - acc: 0.9350 - val_loss: 0.1734 - val_acc: 0.9500\n",
            "Epoch 50/100\n",
            "100/100 [==============================] - 23s 233ms/step - loss: 0.1546 - acc: 0.9330 - val_loss: 0.3211 - val_acc: 0.9490\n",
            "Epoch 51/100\n",
            "100/100 [==============================] - 23s 232ms/step - loss: 0.1596 - acc: 0.9345 - val_loss: 0.0326 - val_acc: 0.9500\n",
            "Epoch 52/100\n",
            "100/100 [==============================] - 23s 233ms/step - loss: 0.1528 - acc: 0.9390 - val_loss: 0.0343 - val_acc: 0.9500\n",
            "Epoch 53/100\n",
            "100/100 [==============================] - 23s 233ms/step - loss: 0.1631 - acc: 0.9360 - val_loss: 0.1354 - val_acc: 0.9530\n",
            "Epoch 54/100\n",
            "100/100 [==============================] - 23s 232ms/step - loss: 0.1830 - acc: 0.9220 - val_loss: 0.2722 - val_acc: 0.9480\n",
            "Epoch 55/100\n",
            "100/100 [==============================] - 23s 232ms/step - loss: 0.1634 - acc: 0.9320 - val_loss: 0.1145 - val_acc: 0.9490\n",
            "Epoch 56/100\n",
            "100/100 [==============================] - 23s 233ms/step - loss: 0.1839 - acc: 0.9265 - val_loss: 0.0652 - val_acc: 0.9510\n",
            "Epoch 57/100\n",
            "100/100 [==============================] - 23s 233ms/step - loss: 0.1506 - acc: 0.9390 - val_loss: 0.1262 - val_acc: 0.9510\n",
            "Epoch 58/100\n",
            "100/100 [==============================] - 23s 234ms/step - loss: 0.1736 - acc: 0.9290 - val_loss: 0.1108 - val_acc: 0.9520\n",
            "Epoch 59/100\n",
            "100/100 [==============================] - 23s 233ms/step - loss: 0.1674 - acc: 0.9240 - val_loss: 0.0193 - val_acc: 0.9520\n",
            "Epoch 60/100\n",
            "100/100 [==============================] - 23s 233ms/step - loss: 0.1520 - acc: 0.9380 - val_loss: 0.2986 - val_acc: 0.9500\n",
            "Epoch 61/100\n",
            "100/100 [==============================] - 23s 233ms/step - loss: 0.1494 - acc: 0.9360 - val_loss: 0.1611 - val_acc: 0.9510\n",
            "Epoch 62/100\n",
            "100/100 [==============================] - 23s 234ms/step - loss: 0.1562 - acc: 0.9340 - val_loss: 0.1906 - val_acc: 0.9540\n",
            "Epoch 63/100\n",
            "100/100 [==============================] - 23s 233ms/step - loss: 0.1450 - acc: 0.9425 - val_loss: 0.3386 - val_acc: 0.9510\n",
            "Epoch 64/100\n",
            "100/100 [==============================] - 23s 233ms/step - loss: 0.1654 - acc: 0.9350 - val_loss: 0.2868 - val_acc: 0.9520\n",
            "Epoch 65/100\n",
            "100/100 [==============================] - 23s 233ms/step - loss: 0.1609 - acc: 0.9335 - val_loss: 0.1366 - val_acc: 0.9520\n",
            "Epoch 66/100\n",
            "100/100 [==============================] - 23s 233ms/step - loss: 0.1642 - acc: 0.9320 - val_loss: 0.0989 - val_acc: 0.9520\n",
            "Epoch 67/100\n",
            "100/100 [==============================] - 23s 232ms/step - loss: 0.1508 - acc: 0.9390 - val_loss: 0.2912 - val_acc: 0.9530\n",
            "Epoch 68/100\n",
            "100/100 [==============================] - 23s 232ms/step - loss: 0.1504 - acc: 0.9370 - val_loss: 0.1524 - val_acc: 0.9540\n",
            "Epoch 69/100\n",
            "100/100 [==============================] - 23s 232ms/step - loss: 0.1310 - acc: 0.9465 - val_loss: 0.0353 - val_acc: 0.9530\n",
            "Epoch 70/100\n",
            "100/100 [==============================] - 23s 232ms/step - loss: 0.1594 - acc: 0.9335 - val_loss: 0.1402 - val_acc: 0.9550\n",
            "Epoch 71/100\n",
            "100/100 [==============================] - 23s 235ms/step - loss: 0.1471 - acc: 0.9355 - val_loss: 0.0033 - val_acc: 0.9520\n",
            "Epoch 72/100\n",
            "100/100 [==============================] - 23s 233ms/step - loss: 0.1671 - acc: 0.9340 - val_loss: 0.4471 - val_acc: 0.9540\n",
            "Epoch 73/100\n",
            "100/100 [==============================] - 23s 233ms/step - loss: 0.1479 - acc: 0.9410 - val_loss: 0.0676 - val_acc: 0.9530\n",
            "Epoch 74/100\n",
            "100/100 [==============================] - 23s 233ms/step - loss: 0.1511 - acc: 0.9410 - val_loss: 0.0068 - val_acc: 0.9520\n",
            "Epoch 75/100\n",
            "100/100 [==============================] - 23s 232ms/step - loss: 0.1431 - acc: 0.9450 - val_loss: 0.0910 - val_acc: 0.9550\n",
            "Epoch 76/100\n",
            "100/100 [==============================] - 23s 233ms/step - loss: 0.1368 - acc: 0.9425 - val_loss: 0.0067 - val_acc: 0.9520\n",
            "Epoch 77/100\n",
            "100/100 [==============================] - 23s 231ms/step - loss: 0.1450 - acc: 0.9410 - val_loss: 0.0403 - val_acc: 0.9540\n",
            "Epoch 78/100\n",
            "100/100 [==============================] - 24s 243ms/step - loss: 0.1548 - acc: 0.9385 - val_loss: 0.0251 - val_acc: 0.9550\n",
            "Epoch 79/100\n",
            "100/100 [==============================] - 24s 236ms/step - loss: 0.1178 - acc: 0.9550 - val_loss: 0.3797 - val_acc: 0.9540\n",
            "Epoch 80/100\n",
            "100/100 [==============================] - 23s 234ms/step - loss: 0.1413 - acc: 0.9380 - val_loss: 0.0140 - val_acc: 0.9550\n",
            "Epoch 81/100\n",
            "100/100 [==============================] - 23s 235ms/step - loss: 0.1503 - acc: 0.9425 - val_loss: 0.3621 - val_acc: 0.9560\n",
            "Epoch 82/100\n",
            "100/100 [==============================] - 23s 235ms/step - loss: 0.1313 - acc: 0.9415 - val_loss: 0.0840 - val_acc: 0.9550\n",
            "Epoch 83/100\n",
            "100/100 [==============================] - 24s 236ms/step - loss: 0.1425 - acc: 0.9450 - val_loss: 0.3183 - val_acc: 0.9550\n",
            "Epoch 84/100\n",
            "100/100 [==============================] - 24s 237ms/step - loss: 0.1383 - acc: 0.9445 - val_loss: 0.1355 - val_acc: 0.9550\n",
            "Epoch 85/100\n",
            "100/100 [==============================] - 24s 236ms/step - loss: 0.1309 - acc: 0.9490 - val_loss: 0.0936 - val_acc: 0.9560\n",
            "Epoch 86/100\n",
            "100/100 [==============================] - 24s 235ms/step - loss: 0.1506 - acc: 0.9355 - val_loss: 0.3722 - val_acc: 0.9560\n",
            "Epoch 87/100\n",
            "100/100 [==============================] - 24s 236ms/step - loss: 0.1465 - acc: 0.9405 - val_loss: 0.1438 - val_acc: 0.9570\n",
            "Epoch 88/100\n",
            "100/100 [==============================] - 24s 235ms/step - loss: 0.1257 - acc: 0.9500 - val_loss: 0.0898 - val_acc: 0.9540\n",
            "Epoch 89/100\n",
            "100/100 [==============================] - 24s 235ms/step - loss: 0.1293 - acc: 0.9475 - val_loss: 0.1088 - val_acc: 0.9530\n",
            "Epoch 90/100\n",
            "100/100 [==============================] - 24s 236ms/step - loss: 0.1289 - acc: 0.9475 - val_loss: 0.0045 - val_acc: 0.9560\n",
            "Epoch 91/100\n",
            "100/100 [==============================] - 23s 235ms/step - loss: 0.1325 - acc: 0.9450 - val_loss: 0.0093 - val_acc: 0.9550\n",
            "Epoch 92/100\n",
            "100/100 [==============================] - 23s 235ms/step - loss: 0.1374 - acc: 0.9420 - val_loss: 0.1070 - val_acc: 0.9550\n",
            "Epoch 93/100\n",
            "100/100 [==============================] - 24s 236ms/step - loss: 0.1133 - acc: 0.9525 - val_loss: 0.3105 - val_acc: 0.9560\n",
            "Epoch 94/100\n",
            "100/100 [==============================] - 24s 235ms/step - loss: 0.1379 - acc: 0.9435 - val_loss: 0.0798 - val_acc: 0.9560\n",
            "Epoch 95/100\n",
            "100/100 [==============================] - 24s 236ms/step - loss: 0.1467 - acc: 0.9420 - val_loss: 0.3043 - val_acc: 0.9580\n",
            "Epoch 96/100\n",
            "100/100 [==============================] - 24s 236ms/step - loss: 0.1344 - acc: 0.9455 - val_loss: 0.1317 - val_acc: 0.9580\n",
            "Epoch 97/100\n",
            "100/100 [==============================] - 24s 236ms/step - loss: 0.1311 - acc: 0.9505 - val_loss: 0.0078 - val_acc: 0.9570\n",
            "Epoch 98/100\n",
            "100/100 [==============================] - 24s 236ms/step - loss: 0.1250 - acc: 0.9520 - val_loss: 0.2196 - val_acc: 0.9570\n",
            "Epoch 99/100\n",
            "100/100 [==============================] - 23s 235ms/step - loss: 0.1195 - acc: 0.9505 - val_loss: 0.0297 - val_acc: 0.9580\n",
            "Epoch 100/100\n",
            "100/100 [==============================] - 24s 236ms/step - loss: 0.1206 - acc: 0.9555 - val_loss: 0.0320 - val_acc: 0.9590\n"
          ],
          "name": "stdout"
        }
      ]
    },
    {
      "cell_type": "markdown",
      "metadata": {
        "id": "eVBQgh5M-Rtz",
        "colab_type": "text"
      },
      "source": [
        "## Display learning curves during fine-tuning"
      ]
    },
    {
      "cell_type": "code",
      "metadata": {
        "id": "mbkIw7Ie-NP4",
        "colab_type": "code",
        "outputId": "c910adc9-2f73-4426-801f-616ab2cb368c",
        "colab": {
          "base_uri": "https://localhost:8080/",
          "height": 545
        }
      },
      "source": [
        "%matplotlib inline\n",
        "\n",
        "import matplotlib.pyplot as plt\n",
        "\n",
        "acc = history.history['acc']\n",
        "val_acc = history.history['val_acc']\n",
        "\n",
        "loss = history.history['loss']\n",
        "val_loss = history.history['val_loss']\n",
        "\n",
        "epochs = range(1, len(acc) + 1)\n",
        "\n",
        "# training and validation accuracy\n",
        "\n",
        "plt.plot(epochs, acc, 'bo', label='training acc')\n",
        "plt.plot(epochs, val_acc, 'b', label='validation acc')\n",
        "plt.title('training and validation accuracy')\n",
        "plt.legend()\n",
        "\n",
        "plt.figure()\n",
        "\n",
        "# training and validation loss\n",
        "\n",
        "plt.plot(epochs, loss, 'bo', label='training loss')\n",
        "plt.plot(epochs, val_loss, 'b', label='validation loss')\n",
        "plt.title('training and validation loss')\n",
        "plt.legend()\n",
        "\n",
        "plt.show()"
      ],
      "execution_count": 0,
      "outputs": [
        {
          "output_type": "display_data",
          "data": {
            "image/png": "[encoded data removed]",
            "text/plain": [
              "<Figure size 432x288 with 1 Axes>"
            ]
          },
          "metadata": {
            "tags": [],
            "needs_background": "light"
          }
        },
        {
          "output_type": "display_data",
          "data": {
            "image/png": "[encoded data removed]",
            "text/plain": [
              "<Figure size 432x288 with 1 Axes>"
            ]
          },
          "metadata": {
            "tags": [],
            "needs_background": "light"
          }
        }
      ]
    },
    {
      "cell_type": "markdown",
      "metadata": {
        "id": "obQi6N4ZShdi",
        "colab_type": "text"
      },
      "source": [
        "It seems to me that both training acc and validation acc are trending upwards. Over the course of training, validation acc went up from .88 to .95"
      ]
    },
    {
      "cell_type": "markdown",
      "metadata": {
        "id": "he3Nw6TOJwjx",
        "colab_type": "text"
      },
      "source": [
        "## Print out validation loss and accuracy"
      ]
    },
    {
      "cell_type": "code",
      "metadata": {
        "id": "SVQtrk7uJdhl",
        "colab_type": "code",
        "colab": {}
      },
      "source": [
        "val_loss, val_acc = model.evaluate_generator(validation_generator, steps=50)"
      ],
      "execution_count": 0,
      "outputs": []
    },
    {
      "cell_type": "code",
      "metadata": {
        "id": "HpdddLi1SUMe",
        "colab_type": "code",
        "outputId": "b788f0e2-99b4-4b35-c0fa-233e719d4517",
        "colab": {
          "base_uri": "https://localhost:8080/",
          "height": 50
        }
      },
      "source": [
        "print(\"Validation loss:\", val_loss)\n",
        "print(\"Validation accuracy:\", val_acc)"
      ],
      "execution_count": 0,
      "outputs": [
        {
          "output_type": "stream",
          "text": [
            "Validation loss: 0.03202635049819946\n",
            "Validation accuracy: 0.9589999914169312\n"
          ],
          "name": "stdout"
        }
      ]
    },
    {
      "cell_type": "markdown",
      "metadata": {
        "id": "7Ww756WToby8",
        "colab_type": "text"
      },
      "source": [
        "## Save the model"
      ]
    },
    {
      "cell_type": "code",
      "metadata": {
        "id": "0lTUpUdwobKW",
        "colab_type": "code",
        "colab": {}
      },
      "source": [
        "model_fname = 'cats_and_dogs_small_4.h5' \n",
        "model.save(model_fname)"
      ],
      "execution_count": 0,
      "outputs": []
    },
    {
      "cell_type": "code",
      "metadata": {
        "id": "YhEoI8ZTok-X",
        "colab_type": "code",
        "outputId": "86b45f1c-4f21-4a01-9434-12bd09e33448",
        "colab": {
          "base_uri": "https://localhost:8080/",
          "height": 337
        }
      },
      "source": [
        "from google.colab import files\n",
        "\n",
        "with open(model_fname, 'r') as f:\n",
        "  files.download(model_fname)"
      ],
      "execution_count": 0,
      "outputs": [
        {
          "output_type": "error",
          "ename": "KeyboardInterrupt",
          "evalue": "ignored",
          "traceback": [
            "\u001b[0;31m---------------------------------------------------------------------------\u001b[0m",
            "\u001b[0;31mKeyboardInterrupt\u001b[0m                         Traceback (most recent call last)",
            "\u001b[0;32m<ipython-input-113-9a4221e8fa3a>\u001b[0m in \u001b[0;36m<module>\u001b[0;34m()\u001b[0m\n\u001b[1;32m      2\u001b[0m \u001b[0;34m\u001b[0m\u001b[0m\n\u001b[1;32m      3\u001b[0m \u001b[0;32mwith\u001b[0m \u001b[0mopen\u001b[0m\u001b[0;34m(\u001b[0m\u001b[0mmodel_fname\u001b[0m\u001b[0;34m,\u001b[0m \u001b[0;34m'r'\u001b[0m\u001b[0;34m)\u001b[0m \u001b[0;32mas\u001b[0m \u001b[0mf\u001b[0m\u001b[0;34m:\u001b[0m\u001b[0;34m\u001b[0m\u001b[0;34m\u001b[0m\u001b[0m\n\u001b[0;32m----> 4\u001b[0;31m   \u001b[0mfiles\u001b[0m\u001b[0;34m.\u001b[0m\u001b[0mdownload\u001b[0m\u001b[0;34m(\u001b[0m\u001b[0mmodel_fname\u001b[0m\u001b[0;34m)\u001b[0m\u001b[0;34m\u001b[0m\u001b[0;34m\u001b[0m\u001b[0m\n\u001b[0m",
            "\u001b[0;32m/usr/local/lib/python3.6/dist-packages/google/colab/files.py\u001b[0m in \u001b[0;36mdownload\u001b[0;34m(filename)\u001b[0m\n\u001b[1;32m    176\u001b[0m       \u001b[0;34m'port'\u001b[0m\u001b[0;34m:\u001b[0m \u001b[0mport\u001b[0m\u001b[0;34m,\u001b[0m\u001b[0;34m\u001b[0m\u001b[0;34m\u001b[0m\u001b[0m\n\u001b[1;32m    177\u001b[0m       \u001b[0;34m'path'\u001b[0m\u001b[0;34m:\u001b[0m \u001b[0m_os\u001b[0m\u001b[0;34m.\u001b[0m\u001b[0mpath\u001b[0m\u001b[0;34m.\u001b[0m\u001b[0mabspath\u001b[0m\u001b[0;34m(\u001b[0m\u001b[0mfilename\u001b[0m\u001b[0;34m)\u001b[0m\u001b[0;34m,\u001b[0m\u001b[0;34m\u001b[0m\u001b[0;34m\u001b[0m\u001b[0m\n\u001b[0;32m--> 178\u001b[0;31m       \u001b[0;34m'name'\u001b[0m\u001b[0;34m:\u001b[0m \u001b[0m_os\u001b[0m\u001b[0;34m.\u001b[0m\u001b[0mpath\u001b[0m\u001b[0;34m.\u001b[0m\u001b[0mbasename\u001b[0m\u001b[0;34m(\u001b[0m\u001b[0mfilename\u001b[0m\u001b[0;34m)\u001b[0m\u001b[0;34m,\u001b[0m\u001b[0;34m\u001b[0m\u001b[0;34m\u001b[0m\u001b[0m\n\u001b[0m\u001b[1;32m    179\u001b[0m   })\n",
            "\u001b[0;32m/usr/local/lib/python3.6/dist-packages/google/colab/output/_js.py\u001b[0m in \u001b[0;36meval_js\u001b[0;34m(script, ignore_result)\u001b[0m\n\u001b[1;32m     37\u001b[0m   \u001b[0;32mif\u001b[0m \u001b[0mignore_result\u001b[0m\u001b[0;34m:\u001b[0m\u001b[0;34m\u001b[0m\u001b[0;34m\u001b[0m\u001b[0m\n\u001b[1;32m     38\u001b[0m     \u001b[0;32mreturn\u001b[0m\u001b[0;34m\u001b[0m\u001b[0;34m\u001b[0m\u001b[0m\n\u001b[0;32m---> 39\u001b[0;31m   \u001b[0;32mreturn\u001b[0m \u001b[0m_message\u001b[0m\u001b[0;34m.\u001b[0m\u001b[0mread_reply_from_input\u001b[0m\u001b[0;34m(\u001b[0m\u001b[0mrequest_id\u001b[0m\u001b[0;34m)\u001b[0m\u001b[0;34m\u001b[0m\u001b[0;34m\u001b[0m\u001b[0m\n\u001b[0m\u001b[1;32m     40\u001b[0m \u001b[0;34m\u001b[0m\u001b[0m\n\u001b[1;32m     41\u001b[0m \u001b[0;34m\u001b[0m\u001b[0m\n",
            "\u001b[0;32m/usr/local/lib/python3.6/dist-packages/google/colab/_message.py\u001b[0m in \u001b[0;36mread_reply_from_input\u001b[0;34m(message_id, timeout_sec)\u001b[0m\n\u001b[1;32m     99\u001b[0m     \u001b[0mreply\u001b[0m \u001b[0;34m=\u001b[0m \u001b[0m_read_next_input_message\u001b[0m\u001b[0;34m(\u001b[0m\u001b[0;34m)\u001b[0m\u001b[0;34m\u001b[0m\u001b[0;34m\u001b[0m\u001b[0m\n\u001b[1;32m    100\u001b[0m     \u001b[0;32mif\u001b[0m \u001b[0mreply\u001b[0m \u001b[0;34m==\u001b[0m \u001b[0m_NOT_READY\u001b[0m \u001b[0;32mor\u001b[0m \u001b[0;32mnot\u001b[0m \u001b[0misinstance\u001b[0m\u001b[0;34m(\u001b[0m\u001b[0mreply\u001b[0m\u001b[0;34m,\u001b[0m \u001b[0mdict\u001b[0m\u001b[0;34m)\u001b[0m\u001b[0;34m:\u001b[0m\u001b[0;34m\u001b[0m\u001b[0;34m\u001b[0m\u001b[0m\n\u001b[0;32m--> 101\u001b[0;31m       \u001b[0mtime\u001b[0m\u001b[0;34m.\u001b[0m\u001b[0msleep\u001b[0m\u001b[0;34m(\u001b[0m\u001b[0;36m0.025\u001b[0m\u001b[0;34m)\u001b[0m\u001b[0;34m\u001b[0m\u001b[0;34m\u001b[0m\u001b[0m\n\u001b[0m\u001b[1;32m    102\u001b[0m       \u001b[0;32mcontinue\u001b[0m\u001b[0;34m\u001b[0m\u001b[0;34m\u001b[0m\u001b[0m\n\u001b[1;32m    103\u001b[0m     if (reply.get('type') == 'colab_reply' and\n",
            "\u001b[0;31mKeyboardInterrupt\u001b[0m: "
          ]
        }
      ]
    },
    {
      "cell_type": "code",
      "metadata": {
        "id": "VNEL4CCcS0Oj",
        "colab_type": "code",
        "colab": {}
      },
      "source": [
        ""
      ],
      "execution_count": 0,
      "outputs": []
    }
  ]
}