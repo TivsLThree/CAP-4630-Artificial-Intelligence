{
  "nbformat": 4,
  "nbformat_minor": 0,
  "metadata": {
    "colab": {
      "name": "HW4V1-pretrained_convnet_finetuning.ipynb",
      "provenance": [],
      "include_colab_link": true
    },
    "kernelspec": {
      "name": "python3",
      "display_name": "Python 3"
    },
    "accelerator": "GPU"
  },
  "cells": [
    {
      "cell_type": "markdown",
      "metadata": {
        "id": "view-in-github",
        "colab_type": "text"
      },
      "source": [
        "<a href=\"https://colab.research.google.com/github/TivsLThree/CAP-4630-Artificial-Intelligence/blob/master/Homework/HW4/HW4V1_pretrained_convnet_finetuning.ipynb\" target=\"_parent\"><img src=\"https://colab.research.google.com/assets/colab-badge.svg\" alt=\"Open In Colab\"/></a>"
      ]
    },
    {
      "cell_type": "markdown",
      "metadata": {
        "id": "KSrgMJ5vKFzQ",
        "colab_type": "text"
      },
      "source": [
        "# Fine-tuning VGG16 "
      ]
    },
    {
      "cell_type": "markdown",
      "metadata": {
        "id": "TIW7bZaAK-Hf",
        "colab_type": "text"
      },
      "source": [
        "This is based on section 5.3 *Using a pretrained convnet* of the book *Deep learning with Python* by Francois Chollet. I have made several changes to the code. I use the data that is already provided by Google. I don't download the data from Kaggle as in the deep learning book."
      ]
    },
    {
      "cell_type": "markdown",
      "metadata": {
        "id": "nsBq__dVo2pj",
        "colab_type": "text"
      },
      "source": [
        "## Feature extraction"
      ]
    },
    {
      "cell_type": "markdown",
      "metadata": {
        "id": "0g6ETAM9o54M",
        "colab_type": "text"
      },
      "source": [
        "Feature extraction consists of using the representations learned by a previous network to extract interesting features from new samples. These features are then run through a new classifier, which is trained from scratch.\n",
        "\n",
        "We will use here the convolutional base of the VGG16 model to extract the features. We will feed these features to a densely connected classifier with dropout. We will fine-tune some layers."
      ]
    },
    {
      "cell_type": "markdown",
      "metadata": {
        "id": "BqIG8QHMLNOn",
        "colab_type": "text"
      },
      "source": [
        "## Download the data"
      ]
    },
    {
      "cell_type": "markdown",
      "metadata": {
        "id": "t3I1jd7cKV6_",
        "colab_type": "text"
      },
      "source": [
        "Download the example data, a zip. of 2,000 JPG pictures of cats and dogs and extract it locally in ```/tmp```.\n",
        "\n"
      ]
    },
    {
      "cell_type": "code",
      "metadata": {
        "id": "JWjprHEXJ5Qi",
        "colab_type": "code",
        "outputId": "ef8f9983-2aa2-4e9c-d830-b712dda8e015",
        "colab": {
          "base_uri": "https://localhost:8080/",
          "height": 202
        }
      },
      "source": [
        "!wget --no-check-certificate \\\n",
        "    https://storage.googleapis.com/mledu-datasets/cats_and_dogs_filtered.zip \\\n",
        "    -O /tmp/cats_and_dogs_filtered.zip"
      ],
      "execution_count": 0,
      "outputs": [
        {
          "output_type": "stream",
          "text": [
            "--2020-04-16 22:44:27--  https://storage.googleapis.com/mledu-datasets/cats_and_dogs_filtered.zip\n",
            "Resolving storage.googleapis.com (storage.googleapis.com)... 64.233.167.128, 2a00:1450:400c:c00::80\n",
            "Connecting to storage.googleapis.com (storage.googleapis.com)|64.233.167.128|:443... connected.\n",
            "HTTP request sent, awaiting response... 200 OK\n",
            "Length: 68606236 (65M) [application/zip]\n",
            "Saving to: ‘/tmp/cats_and_dogs_filtered.zip’\n",
            "\n",
            "/tmp/cats_and_dogs_ 100%[===================>]  65.43M  49.3MB/s    in 1.3s    \n",
            "\n",
            "2020-04-16 22:44:29 (49.3 MB/s) - ‘/tmp/cats_and_dogs_filtered.zip’ saved [68606236/68606236]\n",
            "\n"
          ],
          "name": "stdout"
        }
      ]
    },
    {
      "cell_type": "code",
      "metadata": {
        "id": "WvoHtdA-K6Rw",
        "colab_type": "code",
        "colab": {}
      },
      "source": [
        "import os\n",
        "import zipfile\n",
        "\n",
        "local_zip = '/tmp/cats_and_dogs_filtered.zip'\n",
        "zip_ref = zipfile.ZipFile(local_zip, 'r')\n",
        "zip_ref.extractall('/tmp')\n",
        "zip_ref.close()"
      ],
      "execution_count": 0,
      "outputs": []
    },
    {
      "cell_type": "markdown",
      "metadata": {
        "id": "shZiOBnJMyy_",
        "colab_type": "text"
      },
      "source": [
        "Note that the data provided by Google does not have a test set."
      ]
    },
    {
      "cell_type": "code",
      "metadata": {
        "id": "dL8ikM89LlsH",
        "colab_type": "code",
        "colab": {}
      },
      "source": [
        "base_dir = '/tmp/cats_and_dogs_filtered'\n",
        "train_dir = os.path.join(base_dir, 'train')\n",
        "validation_dir = os.path.join(base_dir, 'validation')\n",
        "\n",
        "# Directory with our training cat pictures\n",
        "train_cats_dir = os.path.join(train_dir, 'cats')\n",
        "\n",
        "# Directory with our training dog pictures\n",
        "train_dogs_dir = os.path.join(train_dir, 'dogs')\n",
        "\n",
        "# Directory with our validation cat pictures\n",
        "validation_cats_dir = os.path.join(validation_dir, 'cats')\n",
        "\n",
        "# Directory with our validation dog pictures\n",
        "validation_dogs_dir = os.path.join(validation_dir, 'dogs')"
      ],
      "execution_count": 0,
      "outputs": []
    },
    {
      "cell_type": "markdown",
      "metadata": {
        "id": "inyP8bcdXnn-",
        "colab_type": "text"
      },
      "source": [
        "## Build network with VGG16 convolution base and custom densely connected layers"
      ]
    },
    {
      "cell_type": "markdown",
      "metadata": {
        "id": "kQ48W5T9rHWu",
        "colab_type": "text"
      },
      "source": [
        "### Load the convolutional base"
      ]
    },
    {
      "cell_type": "code",
      "metadata": {
        "id": "Y0FgtANCXm_H",
        "colab_type": "code",
        "outputId": "ded03e1d-a660-4db4-88d8-81df7a5b523a",
        "colab": {
          "base_uri": "https://localhost:8080/",
          "height": 1000
        }
      },
      "source": [
        "from keras.applications import VGG16\n",
        "from keras.applications import ResNet50\n",
        "from keras.applications import Xception\n",
        "# Change the conv_base\n",
        "#conv_base = VGG16(\n",
        "#    weights='imagenet', \n",
        "#    include_top=False, \n",
        "#    input_shape=(150, 150, 3))\n",
        "#conv_base = ResNet50( # didn't like these results\n",
        "#    include_top = False, \n",
        "#    weights = 'imagenet', \n",
        "#    input_shape=(150,150,3))\n",
        "conv_base = Xception(\n",
        "    weights='imagenet', \n",
        "    include_top=False, \n",
        "    input_shape=(150, 150, 3))\n",
        "conv_base.summary()"
      ],
      "execution_count": 0,
      "outputs": [
        {
          "output_type": "stream",
          "text": [
            "Using TensorFlow backend.\n"
          ],
          "name": "stderr"
        },
        {
          "output_type": "stream",
          "text": [
            "Downloading data from https://github.com/fchollet/deep-learning-models/releases/download/v0.4/xception_weights_tf_dim_ordering_tf_kernels_notop.h5\n",
            "83689472/83683744 [==============================] - 3s 0us/step\n",
            "Model: \"xception\"\n",
            "__________________________________________________________________________________________________\n",
            "Layer (type)                    Output Shape         Param #     Connected to                     \n",
            "==================================================================================================\n",
            "input_1 (InputLayer)            (None, 150, 150, 3)  0                                            \n",
            "__________________________________________________________________________________________________\n",
            "block1_conv1 (Conv2D)           (None, 74, 74, 32)   864         input_1[0][0]                    \n",
            "__________________________________________________________________________________________________\n",
            "block1_conv1_bn (BatchNormaliza (None, 74, 74, 32)   128         block1_conv1[0][0]               \n",
            "__________________________________________________________________________________________________\n",
            "block1_conv1_act (Activation)   (None, 74, 74, 32)   0           block1_conv1_bn[0][0]            \n",
            "__________________________________________________________________________________________________\n",
            "block1_conv2 (Conv2D)           (None, 72, 72, 64)   18432       block1_conv1_act[0][0]           \n",
            "__________________________________________________________________________________________________\n",
            "block1_conv2_bn (BatchNormaliza (None, 72, 72, 64)   256         block1_conv2[0][0]               \n",
            "__________________________________________________________________________________________________\n",
            "block1_conv2_act (Activation)   (None, 72, 72, 64)   0           block1_conv2_bn[0][0]            \n",
            "__________________________________________________________________________________________________\n",
            "block2_sepconv1 (SeparableConv2 (None, 72, 72, 128)  8768        block1_conv2_act[0][0]           \n",
            "__________________________________________________________________________________________________\n",
            "block2_sepconv1_bn (BatchNormal (None, 72, 72, 128)  512         block2_sepconv1[0][0]            \n",
            "__________________________________________________________________________________________________\n",
            "block2_sepconv2_act (Activation (None, 72, 72, 128)  0           block2_sepconv1_bn[0][0]         \n",
            "__________________________________________________________________________________________________\n",
            "block2_sepconv2 (SeparableConv2 (None, 72, 72, 128)  17536       block2_sepconv2_act[0][0]        \n",
            "__________________________________________________________________________________________________\n",
            "block2_sepconv2_bn (BatchNormal (None, 72, 72, 128)  512         block2_sepconv2[0][0]            \n",
            "__________________________________________________________________________________________________\n",
            "conv2d_1 (Conv2D)               (None, 36, 36, 128)  8192        block1_conv2_act[0][0]           \n",
            "__________________________________________________________________________________________________\n",
            "block2_pool (MaxPooling2D)      (None, 36, 36, 128)  0           block2_sepconv2_bn[0][0]         \n",
            "__________________________________________________________________________________________________\n",
            "batch_normalization_1 (BatchNor (None, 36, 36, 128)  512         conv2d_1[0][0]                   \n",
            "__________________________________________________________________________________________________\n",
            "add_1 (Add)                     (None, 36, 36, 128)  0           block2_pool[0][0]                \n",
            "                                                                 batch_normalization_1[0][0]      \n",
            "__________________________________________________________________________________________________\n",
            "block3_sepconv1_act (Activation (None, 36, 36, 128)  0           add_1[0][0]                      \n",
            "__________________________________________________________________________________________________\n",
            "block3_sepconv1 (SeparableConv2 (None, 36, 36, 256)  33920       block3_sepconv1_act[0][0]        \n",
            "__________________________________________________________________________________________________\n",
            "block3_sepconv1_bn (BatchNormal (None, 36, 36, 256)  1024        block3_sepconv1[0][0]            \n",
            "__________________________________________________________________________________________________\n",
            "block3_sepconv2_act (Activation (None, 36, 36, 256)  0           block3_sepconv1_bn[0][0]         \n",
            "__________________________________________________________________________________________________\n",
            "block3_sepconv2 (SeparableConv2 (None, 36, 36, 256)  67840       block3_sepconv2_act[0][0]        \n",
            "__________________________________________________________________________________________________\n",
            "block3_sepconv2_bn (BatchNormal (None, 36, 36, 256)  1024        block3_sepconv2[0][0]            \n",
            "__________________________________________________________________________________________________\n",
            "conv2d_2 (Conv2D)               (None, 18, 18, 256)  32768       add_1[0][0]                      \n",
            "__________________________________________________________________________________________________\n",
            "block3_pool (MaxPooling2D)      (None, 18, 18, 256)  0           block3_sepconv2_bn[0][0]         \n",
            "__________________________________________________________________________________________________\n",
            "batch_normalization_2 (BatchNor (None, 18, 18, 256)  1024        conv2d_2[0][0]                   \n",
            "__________________________________________________________________________________________________\n",
            "add_2 (Add)                     (None, 18, 18, 256)  0           block3_pool[0][0]                \n",
            "                                                                 batch_normalization_2[0][0]      \n",
            "__________________________________________________________________________________________________\n",
            "block4_sepconv1_act (Activation (None, 18, 18, 256)  0           add_2[0][0]                      \n",
            "__________________________________________________________________________________________________\n",
            "block4_sepconv1 (SeparableConv2 (None, 18, 18, 728)  188672      block4_sepconv1_act[0][0]        \n",
            "__________________________________________________________________________________________________\n",
            "block4_sepconv1_bn (BatchNormal (None, 18, 18, 728)  2912        block4_sepconv1[0][0]            \n",
            "__________________________________________________________________________________________________\n",
            "block4_sepconv2_act (Activation (None, 18, 18, 728)  0           block4_sepconv1_bn[0][0]         \n",
            "__________________________________________________________________________________________________\n",
            "block4_sepconv2 (SeparableConv2 (None, 18, 18, 728)  536536      block4_sepconv2_act[0][0]        \n",
            "__________________________________________________________________________________________________\n",
            "block4_sepconv2_bn (BatchNormal (None, 18, 18, 728)  2912        block4_sepconv2[0][0]            \n",
            "__________________________________________________________________________________________________\n",
            "conv2d_3 (Conv2D)               (None, 9, 9, 728)    186368      add_2[0][0]                      \n",
            "__________________________________________________________________________________________________\n",
            "block4_pool (MaxPooling2D)      (None, 9, 9, 728)    0           block4_sepconv2_bn[0][0]         \n",
            "__________________________________________________________________________________________________\n",
            "batch_normalization_3 (BatchNor (None, 9, 9, 728)    2912        conv2d_3[0][0]                   \n",
            "__________________________________________________________________________________________________\n",
            "add_3 (Add)                     (None, 9, 9, 728)    0           block4_pool[0][0]                \n",
            "                                                                 batch_normalization_3[0][0]      \n",
            "__________________________________________________________________________________________________\n",
            "block5_sepconv1_act (Activation (None, 9, 9, 728)    0           add_3[0][0]                      \n",
            "__________________________________________________________________________________________________\n",
            "block5_sepconv1 (SeparableConv2 (None, 9, 9, 728)    536536      block5_sepconv1_act[0][0]        \n",
            "__________________________________________________________________________________________________\n",
            "block5_sepconv1_bn (BatchNormal (None, 9, 9, 728)    2912        block5_sepconv1[0][0]            \n",
            "__________________________________________________________________________________________________\n",
            "block5_sepconv2_act (Activation (None, 9, 9, 728)    0           block5_sepconv1_bn[0][0]         \n",
            "__________________________________________________________________________________________________\n",
            "block5_sepconv2 (SeparableConv2 (None, 9, 9, 728)    536536      block5_sepconv2_act[0][0]        \n",
            "__________________________________________________________________________________________________\n",
            "block5_sepconv2_bn (BatchNormal (None, 9, 9, 728)    2912        block5_sepconv2[0][0]            \n",
            "__________________________________________________________________________________________________\n",
            "block5_sepconv3_act (Activation (None, 9, 9, 728)    0           block5_sepconv2_bn[0][0]         \n",
            "__________________________________________________________________________________________________\n",
            "block5_sepconv3 (SeparableConv2 (None, 9, 9, 728)    536536      block5_sepconv3_act[0][0]        \n",
            "__________________________________________________________________________________________________\n",
            "block5_sepconv3_bn (BatchNormal (None, 9, 9, 728)    2912        block5_sepconv3[0][0]            \n",
            "__________________________________________________________________________________________________\n",
            "add_4 (Add)                     (None, 9, 9, 728)    0           block5_sepconv3_bn[0][0]         \n",
            "                                                                 add_3[0][0]                      \n",
            "__________________________________________________________________________________________________\n",
            "block6_sepconv1_act (Activation (None, 9, 9, 728)    0           add_4[0][0]                      \n",
            "__________________________________________________________________________________________________\n",
            "block6_sepconv1 (SeparableConv2 (None, 9, 9, 728)    536536      block6_sepconv1_act[0][0]        \n",
            "__________________________________________________________________________________________________\n",
            "block6_sepconv1_bn (BatchNormal (None, 9, 9, 728)    2912        block6_sepconv1[0][0]            \n",
            "__________________________________________________________________________________________________\n",
            "block6_sepconv2_act (Activation (None, 9, 9, 728)    0           block6_sepconv1_bn[0][0]         \n",
            "__________________________________________________________________________________________________\n",
            "block6_sepconv2 (SeparableConv2 (None, 9, 9, 728)    536536      block6_sepconv2_act[0][0]        \n",
            "__________________________________________________________________________________________________\n",
            "block6_sepconv2_bn (BatchNormal (None, 9, 9, 728)    2912        block6_sepconv2[0][0]            \n",
            "__________________________________________________________________________________________________\n",
            "block6_sepconv3_act (Activation (None, 9, 9, 728)    0           block6_sepconv2_bn[0][0]         \n",
            "__________________________________________________________________________________________________\n",
            "block6_sepconv3 (SeparableConv2 (None, 9, 9, 728)    536536      block6_sepconv3_act[0][0]        \n",
            "__________________________________________________________________________________________________\n",
            "block6_sepconv3_bn (BatchNormal (None, 9, 9, 728)    2912        block6_sepconv3[0][0]            \n",
            "__________________________________________________________________________________________________\n",
            "add_5 (Add)                     (None, 9, 9, 728)    0           block6_sepconv3_bn[0][0]         \n",
            "                                                                 add_4[0][0]                      \n",
            "__________________________________________________________________________________________________\n",
            "block7_sepconv1_act (Activation (None, 9, 9, 728)    0           add_5[0][0]                      \n",
            "__________________________________________________________________________________________________\n",
            "block7_sepconv1 (SeparableConv2 (None, 9, 9, 728)    536536      block7_sepconv1_act[0][0]        \n",
            "__________________________________________________________________________________________________\n",
            "block7_sepconv1_bn (BatchNormal (None, 9, 9, 728)    2912        block7_sepconv1[0][0]            \n",
            "__________________________________________________________________________________________________\n",
            "block7_sepconv2_act (Activation (None, 9, 9, 728)    0           block7_sepconv1_bn[0][0]         \n",
            "__________________________________________________________________________________________________\n",
            "block7_sepconv2 (SeparableConv2 (None, 9, 9, 728)    536536      block7_sepconv2_act[0][0]        \n",
            "__________________________________________________________________________________________________\n",
            "block7_sepconv2_bn (BatchNormal (None, 9, 9, 728)    2912        block7_sepconv2[0][0]            \n",
            "__________________________________________________________________________________________________\n",
            "block7_sepconv3_act (Activation (None, 9, 9, 728)    0           block7_sepconv2_bn[0][0]         \n",
            "__________________________________________________________________________________________________\n",
            "block7_sepconv3 (SeparableConv2 (None, 9, 9, 728)    536536      block7_sepconv3_act[0][0]        \n",
            "__________________________________________________________________________________________________\n",
            "block7_sepconv3_bn (BatchNormal (None, 9, 9, 728)    2912        block7_sepconv3[0][0]            \n",
            "__________________________________________________________________________________________________\n",
            "add_6 (Add)                     (None, 9, 9, 728)    0           block7_sepconv3_bn[0][0]         \n",
            "                                                                 add_5[0][0]                      \n",
            "__________________________________________________________________________________________________\n",
            "block8_sepconv1_act (Activation (None, 9, 9, 728)    0           add_6[0][0]                      \n",
            "__________________________________________________________________________________________________\n",
            "block8_sepconv1 (SeparableConv2 (None, 9, 9, 728)    536536      block8_sepconv1_act[0][0]        \n",
            "__________________________________________________________________________________________________\n",
            "block8_sepconv1_bn (BatchNormal (None, 9, 9, 728)    2912        block8_sepconv1[0][0]            \n",
            "__________________________________________________________________________________________________\n",
            "block8_sepconv2_act (Activation (None, 9, 9, 728)    0           block8_sepconv1_bn[0][0]         \n",
            "__________________________________________________________________________________________________\n",
            "block8_sepconv2 (SeparableConv2 (None, 9, 9, 728)    536536      block8_sepconv2_act[0][0]        \n",
            "__________________________________________________________________________________________________\n",
            "block8_sepconv2_bn (BatchNormal (None, 9, 9, 728)    2912        block8_sepconv2[0][0]            \n",
            "__________________________________________________________________________________________________\n",
            "block8_sepconv3_act (Activation (None, 9, 9, 728)    0           block8_sepconv2_bn[0][0]         \n",
            "__________________________________________________________________________________________________\n",
            "block8_sepconv3 (SeparableConv2 (None, 9, 9, 728)    536536      block8_sepconv3_act[0][0]        \n",
            "__________________________________________________________________________________________________\n",
            "block8_sepconv3_bn (BatchNormal (None, 9, 9, 728)    2912        block8_sepconv3[0][0]            \n",
            "__________________________________________________________________________________________________\n",
            "add_7 (Add)                     (None, 9, 9, 728)    0           block8_sepconv3_bn[0][0]         \n",
            "                                                                 add_6[0][0]                      \n",
            "__________________________________________________________________________________________________\n",
            "block9_sepconv1_act (Activation (None, 9, 9, 728)    0           add_7[0][0]                      \n",
            "__________________________________________________________________________________________________\n",
            "block9_sepconv1 (SeparableConv2 (None, 9, 9, 728)    536536      block9_sepconv1_act[0][0]        \n",
            "__________________________________________________________________________________________________\n",
            "block9_sepconv1_bn (BatchNormal (None, 9, 9, 728)    2912        block9_sepconv1[0][0]            \n",
            "__________________________________________________________________________________________________\n",
            "block9_sepconv2_act (Activation (None, 9, 9, 728)    0           block9_sepconv1_bn[0][0]         \n",
            "__________________________________________________________________________________________________\n",
            "block9_sepconv2 (SeparableConv2 (None, 9, 9, 728)    536536      block9_sepconv2_act[0][0]        \n",
            "__________________________________________________________________________________________________\n",
            "block9_sepconv2_bn (BatchNormal (None, 9, 9, 728)    2912        block9_sepconv2[0][0]            \n",
            "__________________________________________________________________________________________________\n",
            "block9_sepconv3_act (Activation (None, 9, 9, 728)    0           block9_sepconv2_bn[0][0]         \n",
            "__________________________________________________________________________________________________\n",
            "block9_sepconv3 (SeparableConv2 (None, 9, 9, 728)    536536      block9_sepconv3_act[0][0]        \n",
            "__________________________________________________________________________________________________\n",
            "block9_sepconv3_bn (BatchNormal (None, 9, 9, 728)    2912        block9_sepconv3[0][0]            \n",
            "__________________________________________________________________________________________________\n",
            "add_8 (Add)                     (None, 9, 9, 728)    0           block9_sepconv3_bn[0][0]         \n",
            "                                                                 add_7[0][0]                      \n",
            "__________________________________________________________________________________________________\n",
            "block10_sepconv1_act (Activatio (None, 9, 9, 728)    0           add_8[0][0]                      \n",
            "__________________________________________________________________________________________________\n",
            "block10_sepconv1 (SeparableConv (None, 9, 9, 728)    536536      block10_sepconv1_act[0][0]       \n",
            "__________________________________________________________________________________________________\n",
            "block10_sepconv1_bn (BatchNorma (None, 9, 9, 728)    2912        block10_sepconv1[0][0]           \n",
            "__________________________________________________________________________________________________\n",
            "block10_sepconv2_act (Activatio (None, 9, 9, 728)    0           block10_sepconv1_bn[0][0]        \n",
            "__________________________________________________________________________________________________\n",
            "block10_sepconv2 (SeparableConv (None, 9, 9, 728)    536536      block10_sepconv2_act[0][0]       \n",
            "__________________________________________________________________________________________________\n",
            "block10_sepconv2_bn (BatchNorma (None, 9, 9, 728)    2912        block10_sepconv2[0][0]           \n",
            "__________________________________________________________________________________________________\n",
            "block10_sepconv3_act (Activatio (None, 9, 9, 728)    0           block10_sepconv2_bn[0][0]        \n",
            "__________________________________________________________________________________________________\n",
            "block10_sepconv3 (SeparableConv (None, 9, 9, 728)    536536      block10_sepconv3_act[0][0]       \n",
            "__________________________________________________________________________________________________\n",
            "block10_sepconv3_bn (BatchNorma (None, 9, 9, 728)    2912        block10_sepconv3[0][0]           \n",
            "__________________________________________________________________________________________________\n",
            "add_9 (Add)                     (None, 9, 9, 728)    0           block10_sepconv3_bn[0][0]        \n",
            "                                                                 add_8[0][0]                      \n",
            "__________________________________________________________________________________________________\n",
            "block11_sepconv1_act (Activatio (None, 9, 9, 728)    0           add_9[0][0]                      \n",
            "__________________________________________________________________________________________________\n",
            "block11_sepconv1 (SeparableConv (None, 9, 9, 728)    536536      block11_sepconv1_act[0][0]       \n",
            "__________________________________________________________________________________________________\n",
            "block11_sepconv1_bn (BatchNorma (None, 9, 9, 728)    2912        block11_sepconv1[0][0]           \n",
            "__________________________________________________________________________________________________\n",
            "block11_sepconv2_act (Activatio (None, 9, 9, 728)    0           block11_sepconv1_bn[0][0]        \n",
            "__________________________________________________________________________________________________\n",
            "block11_sepconv2 (SeparableConv (None, 9, 9, 728)    536536      block11_sepconv2_act[0][0]       \n",
            "__________________________________________________________________________________________________\n",
            "block11_sepconv2_bn (BatchNorma (None, 9, 9, 728)    2912        block11_sepconv2[0][0]           \n",
            "__________________________________________________________________________________________________\n",
            "block11_sepconv3_act (Activatio (None, 9, 9, 728)    0           block11_sepconv2_bn[0][0]        \n",
            "__________________________________________________________________________________________________\n",
            "block11_sepconv3 (SeparableConv (None, 9, 9, 728)    536536      block11_sepconv3_act[0][0]       \n",
            "__________________________________________________________________________________________________\n",
            "block11_sepconv3_bn (BatchNorma (None, 9, 9, 728)    2912        block11_sepconv3[0][0]           \n",
            "__________________________________________________________________________________________________\n",
            "add_10 (Add)                    (None, 9, 9, 728)    0           block11_sepconv3_bn[0][0]        \n",
            "                                                                 add_9[0][0]                      \n",
            "__________________________________________________________________________________________________\n",
            "block12_sepconv1_act (Activatio (None, 9, 9, 728)    0           add_10[0][0]                     \n",
            "__________________________________________________________________________________________________\n",
            "block12_sepconv1 (SeparableConv (None, 9, 9, 728)    536536      block12_sepconv1_act[0][0]       \n",
            "__________________________________________________________________________________________________\n",
            "block12_sepconv1_bn (BatchNorma (None, 9, 9, 728)    2912        block12_sepconv1[0][0]           \n",
            "__________________________________________________________________________________________________\n",
            "block12_sepconv2_act (Activatio (None, 9, 9, 728)    0           block12_sepconv1_bn[0][0]        \n",
            "__________________________________________________________________________________________________\n",
            "block12_sepconv2 (SeparableConv (None, 9, 9, 728)    536536      block12_sepconv2_act[0][0]       \n",
            "__________________________________________________________________________________________________\n",
            "block12_sepconv2_bn (BatchNorma (None, 9, 9, 728)    2912        block12_sepconv2[0][0]           \n",
            "__________________________________________________________________________________________________\n",
            "block12_sepconv3_act (Activatio (None, 9, 9, 728)    0           block12_sepconv2_bn[0][0]        \n",
            "__________________________________________________________________________________________________\n",
            "block12_sepconv3 (SeparableConv (None, 9, 9, 728)    536536      block12_sepconv3_act[0][0]       \n",
            "__________________________________________________________________________________________________\n",
            "block12_sepconv3_bn (BatchNorma (None, 9, 9, 728)    2912        block12_sepconv3[0][0]           \n",
            "__________________________________________________________________________________________________\n",
            "add_11 (Add)                    (None, 9, 9, 728)    0           block12_sepconv3_bn[0][0]        \n",
            "                                                                 add_10[0][0]                     \n",
            "__________________________________________________________________________________________________\n",
            "block13_sepconv1_act (Activatio (None, 9, 9, 728)    0           add_11[0][0]                     \n",
            "__________________________________________________________________________________________________\n",
            "block13_sepconv1 (SeparableConv (None, 9, 9, 728)    536536      block13_sepconv1_act[0][0]       \n",
            "__________________________________________________________________________________________________\n",
            "block13_sepconv1_bn (BatchNorma (None, 9, 9, 728)    2912        block13_sepconv1[0][0]           \n",
            "__________________________________________________________________________________________________\n",
            "block13_sepconv2_act (Activatio (None, 9, 9, 728)    0           block13_sepconv1_bn[0][0]        \n",
            "__________________________________________________________________________________________________\n",
            "block13_sepconv2 (SeparableConv (None, 9, 9, 1024)   752024      block13_sepconv2_act[0][0]       \n",
            "__________________________________________________________________________________________________\n",
            "block13_sepconv2_bn (BatchNorma (None, 9, 9, 1024)   4096        block13_sepconv2[0][0]           \n",
            "__________________________________________________________________________________________________\n",
            "conv2d_4 (Conv2D)               (None, 5, 5, 1024)   745472      add_11[0][0]                     \n",
            "__________________________________________________________________________________________________\n",
            "block13_pool (MaxPooling2D)     (None, 5, 5, 1024)   0           block13_sepconv2_bn[0][0]        \n",
            "__________________________________________________________________________________________________\n",
            "batch_normalization_4 (BatchNor (None, 5, 5, 1024)   4096        conv2d_4[0][0]                   \n",
            "__________________________________________________________________________________________________\n",
            "add_12 (Add)                    (None, 5, 5, 1024)   0           block13_pool[0][0]               \n",
            "                                                                 batch_normalization_4[0][0]      \n",
            "__________________________________________________________________________________________________\n",
            "block14_sepconv1 (SeparableConv (None, 5, 5, 1536)   1582080     add_12[0][0]                     \n",
            "__________________________________________________________________________________________________\n",
            "block14_sepconv1_bn (BatchNorma (None, 5, 5, 1536)   6144        block14_sepconv1[0][0]           \n",
            "__________________________________________________________________________________________________\n",
            "block14_sepconv1_act (Activatio (None, 5, 5, 1536)   0           block14_sepconv1_bn[0][0]        \n",
            "__________________________________________________________________________________________________\n",
            "block14_sepconv2 (SeparableConv (None, 5, 5, 2048)   3159552     block14_sepconv1_act[0][0]       \n",
            "__________________________________________________________________________________________________\n",
            "block14_sepconv2_bn (BatchNorma (None, 5, 5, 2048)   8192        block14_sepconv2[0][0]           \n",
            "__________________________________________________________________________________________________\n",
            "block14_sepconv2_act (Activatio (None, 5, 5, 2048)   0           block14_sepconv2_bn[0][0]        \n",
            "==================================================================================================\n",
            "Total params: 20,861,480\n",
            "Trainable params: 20,806,952\n",
            "Non-trainable params: 54,528\n",
            "__________________________________________________________________________________________________\n"
          ],
          "name": "stdout"
        }
      ]
    },
    {
      "cell_type": "markdown",
      "metadata": {
        "id": "D6OBHOO9q1ou",
        "colab_type": "text"
      },
      "source": [
        "### Freeze the convolutional base"
      ]
    },
    {
      "cell_type": "code",
      "metadata": {
        "id": "UleRo4Dpq6Ld",
        "colab_type": "code",
        "colab": {}
      },
      "source": [
        "conv_base.trainable = False"
      ],
      "execution_count": 0,
      "outputs": []
    },
    {
      "cell_type": "markdown",
      "metadata": {
        "id": "Qfx6PqhPrb7Q",
        "colab_type": "text"
      },
      "source": [
        "### Concatenate the convolutional base and densely connected layers"
      ]
    },
    {
      "cell_type": "code",
      "metadata": {
        "id": "qUpmocDAO3xm",
        "colab_type": "code",
        "colab": {}
      },
      "source": [
        "from keras import layers\n",
        "from keras import models\n",
        "from keras import optimizers\n",
        "\n",
        "model = models.Sequential()\n",
        "model.add(conv_base)\n",
        "model.add(layers.Flatten())\n",
        "# Make small changes to classifier. Reduced dense layer size and added the drop out.\n",
        "# I assume this dense layer reduction was way too much. May actually expand it\n",
        "# For the next classifier, I am considering adding another dropout between the flatten and dense node.\n",
        "# I may also add another dense layer with another activation to see if I get better results. \n",
        "# It seems like these changes may have made it worse. Must have reduced the dense layer too much. \n",
        "model.add(layers.Dense(128, activation='relu'))\n",
        "model.add(layers.Dropout(0.1))\n",
        "model.add(layers.Dense(1, activation='sigmoid'))"
      ],
      "execution_count": 0,
      "outputs": []
    },
    {
      "cell_type": "code",
      "metadata": {
        "id": "Fh6gZSeAjF7c",
        "colab_type": "code",
        "outputId": "52abd453-3026-4e8b-c853-53023c7e12da",
        "colab": {
          "base_uri": "https://localhost:8080/",
          "height": 319
        }
      },
      "source": [
        "model.summary()"
      ],
      "execution_count": 0,
      "outputs": [
        {
          "output_type": "stream",
          "text": [
            "Model: \"sequential_1\"\n",
            "_________________________________________________________________\n",
            "Layer (type)                 Output Shape              Param #   \n",
            "=================================================================\n",
            "xception (Model)             (None, 5, 5, 2048)        20861480  \n",
            "_________________________________________________________________\n",
            "flatten_1 (Flatten)          (None, 51200)             0         \n",
            "_________________________________________________________________\n",
            "dense_1 (Dense)              (None, 128)               6553728   \n",
            "_________________________________________________________________\n",
            "dropout_1 (Dropout)          (None, 128)               0         \n",
            "_________________________________________________________________\n",
            "dense_2 (Dense)              (None, 1)                 129       \n",
            "=================================================================\n",
            "Total params: 27,415,337\n",
            "Trainable params: 6,553,857\n",
            "Non-trainable params: 20,861,480\n",
            "_________________________________________________________________\n"
          ],
          "name": "stdout"
        }
      ]
    },
    {
      "cell_type": "markdown",
      "metadata": {
        "id": "eZjBiddhi5Qj",
        "colab_type": "text"
      },
      "source": [
        "## Train the model end to end with frozen convolutional base"
      ]
    },
    {
      "cell_type": "code",
      "metadata": {
        "id": "tfAQlC2Oi41L",
        "colab_type": "code",
        "outputId": "135def99-3e12-47a4-b734-071cb66389bb",
        "colab": {
          "base_uri": "https://localhost:8080/",
          "height": 1000
        }
      },
      "source": [
        "from keras.preprocessing.image import ImageDataGenerator\n",
        "from keras import optimizers\n",
        "\n",
        "# data augmentation\n",
        "\n",
        "train_datagen = ImageDataGenerator(\n",
        "    rescale=1./255, \n",
        "    rotation_range=40,\n",
        "    width_shift_range=0.2,\n",
        "    height_shift_range=0.2,\n",
        "    shear_range=0.2,\n",
        "    zoom_range=0.2,\n",
        "    horizontal_flip=True,\n",
        "    fill_mode='nearest'\n",
        ")\n",
        "\n",
        "train_generator = train_datagen.flow_from_directory(\n",
        "    train_dir,\n",
        "    target_size=(150, 150),\n",
        "    batch_size=20,\n",
        "    class_mode='binary')\n",
        "\n",
        "validation_datagen = ImageDataGenerator(rescale=1./255)\n",
        "\n",
        "validation_generator = validation_datagen.flow_from_directory(\n",
        "    validation_dir,\n",
        "    target_size=(150, 150),\n",
        "    batch_size=20,\n",
        "    class_mode='binary')\n",
        "\n",
        "# compile model\n",
        "\n",
        "model.compile(\n",
        "    loss='binary_crossentropy',  # smaller learning rate\n",
        "    optimizer=optimizers.RMSprop(lr=1e-6), \n",
        "    metrics=['acc'])\n",
        "\n",
        "# train\n",
        "\n",
        "history = model.fit_generator(\n",
        "    train_generator,\n",
        "    steps_per_epoch=100,\n",
        "    epochs=30,\n",
        "    validation_data=validation_generator,\n",
        "    validation_steps=50\n",
        ")"
      ],
      "execution_count": 0,
      "outputs": [
        {
          "output_type": "stream",
          "text": [
            "Found 2000 images belonging to 2 classes.\n",
            "Found 1000 images belonging to 2 classes.\n",
            "Epoch 1/30\n",
            "100/100 [==============================] - 30s 304ms/step - loss: 0.6745 - acc: 0.5985 - val_loss: 0.3186 - val_acc: 0.8650\n",
            "Epoch 2/30\n",
            "100/100 [==============================] - 21s 206ms/step - loss: 0.5830 - acc: 0.7015 - val_loss: 0.2392 - val_acc: 0.9210\n",
            "Epoch 3/30\n",
            "100/100 [==============================] - 21s 205ms/step - loss: 0.5285 - acc: 0.7415 - val_loss: 0.1441 - val_acc: 0.9370\n",
            "Epoch 4/30\n",
            "100/100 [==============================] - 20s 202ms/step - loss: 0.4987 - acc: 0.7635 - val_loss: 0.1993 - val_acc: 0.9500\n",
            "Epoch 5/30\n",
            "100/100 [==============================] - 21s 208ms/step - loss: 0.4709 - acc: 0.7915 - val_loss: 0.0460 - val_acc: 0.9580\n",
            "Epoch 6/30\n",
            "100/100 [==============================] - 20s 204ms/step - loss: 0.4419 - acc: 0.7945 - val_loss: 0.2557 - val_acc: 0.9540\n",
            "Epoch 7/30\n",
            "100/100 [==============================] - 20s 205ms/step - loss: 0.4259 - acc: 0.8090 - val_loss: 0.0387 - val_acc: 0.9570\n",
            "Epoch 8/30\n",
            "100/100 [==============================] - 21s 208ms/step - loss: 0.4068 - acc: 0.8170 - val_loss: 0.0414 - val_acc: 0.9560\n",
            "Epoch 9/30\n",
            "100/100 [==============================] - 20s 204ms/step - loss: 0.4085 - acc: 0.8125 - val_loss: 0.2068 - val_acc: 0.9620\n",
            "Epoch 10/30\n",
            "100/100 [==============================] - 21s 206ms/step - loss: 0.3931 - acc: 0.8230 - val_loss: 0.0436 - val_acc: 0.9590\n",
            "Epoch 11/30\n",
            "100/100 [==============================] - 20s 204ms/step - loss: 0.3880 - acc: 0.8255 - val_loss: 0.0156 - val_acc: 0.9590\n",
            "Epoch 12/30\n",
            "100/100 [==============================] - 20s 204ms/step - loss: 0.3859 - acc: 0.8215 - val_loss: 0.1507 - val_acc: 0.9620\n",
            "Epoch 13/30\n",
            "100/100 [==============================] - 20s 205ms/step - loss: 0.3601 - acc: 0.8380 - val_loss: 0.0504 - val_acc: 0.9630\n",
            "Epoch 14/30\n",
            "100/100 [==============================] - 20s 205ms/step - loss: 0.3620 - acc: 0.8325 - val_loss: 0.0085 - val_acc: 0.9620\n",
            "Epoch 15/30\n",
            "100/100 [==============================] - 21s 206ms/step - loss: 0.3664 - acc: 0.8265 - val_loss: 0.1231 - val_acc: 0.9620\n",
            "Epoch 16/30\n",
            "100/100 [==============================] - 21s 205ms/step - loss: 0.3734 - acc: 0.8235 - val_loss: 0.0769 - val_acc: 0.9640\n",
            "Epoch 17/30\n",
            "100/100 [==============================] - 21s 207ms/step - loss: 0.3538 - acc: 0.8400 - val_loss: 0.0360 - val_acc: 0.9630\n",
            "Epoch 18/30\n",
            "100/100 [==============================] - 20s 205ms/step - loss: 0.3449 - acc: 0.8400 - val_loss: 0.0605 - val_acc: 0.9650\n",
            "Epoch 19/30\n",
            "100/100 [==============================] - 21s 207ms/step - loss: 0.3514 - acc: 0.8400 - val_loss: 0.0356 - val_acc: 0.9620\n",
            "Epoch 20/30\n",
            "100/100 [==============================] - 21s 205ms/step - loss: 0.3567 - acc: 0.8410 - val_loss: 0.0138 - val_acc: 0.9650\n",
            "Epoch 21/30\n",
            "100/100 [==============================] - 21s 205ms/step - loss: 0.3509 - acc: 0.8275 - val_loss: 0.1418 - val_acc: 0.9650\n",
            "Epoch 22/30\n",
            "100/100 [==============================] - 21s 208ms/step - loss: 0.3388 - acc: 0.8515 - val_loss: 0.0993 - val_acc: 0.9630\n",
            "Epoch 23/30\n",
            "100/100 [==============================] - 21s 207ms/step - loss: 0.3477 - acc: 0.8335 - val_loss: 0.0183 - val_acc: 0.9650\n",
            "Epoch 24/30\n",
            "100/100 [==============================] - 21s 206ms/step - loss: 0.3237 - acc: 0.8530 - val_loss: 0.0034 - val_acc: 0.9680\n",
            "Epoch 25/30\n",
            "100/100 [==============================] - 21s 206ms/step - loss: 0.3482 - acc: 0.8315 - val_loss: 0.0201 - val_acc: 0.9630\n",
            "Epoch 26/30\n",
            "100/100 [==============================] - 20s 205ms/step - loss: 0.3553 - acc: 0.8400 - val_loss: 0.0072 - val_acc: 0.9640\n",
            "Epoch 27/30\n",
            "100/100 [==============================] - 21s 206ms/step - loss: 0.3325 - acc: 0.8495 - val_loss: 0.0225 - val_acc: 0.9660\n",
            "Epoch 28/30\n",
            "100/100 [==============================] - 22s 217ms/step - loss: 0.3497 - acc: 0.8325 - val_loss: 0.1048 - val_acc: 0.9640\n",
            "Epoch 29/30\n",
            "100/100 [==============================] - 22s 218ms/step - loss: 0.3301 - acc: 0.8480 - val_loss: 0.1440 - val_acc: 0.9650\n",
            "Epoch 30/30\n",
            "100/100 [==============================] - 22s 216ms/step - loss: 0.3230 - acc: 0.8580 - val_loss: 0.0411 - val_acc: 0.9680\n"
          ],
          "name": "stdout"
        }
      ]
    },
    {
      "cell_type": "markdown",
      "metadata": {
        "id": "xqRc_vHKc92U",
        "colab_type": "text"
      },
      "source": [
        "## Display curves of loss and accuracy during training"
      ]
    },
    {
      "cell_type": "code",
      "metadata": {
        "id": "ybWwdzz9bwuQ",
        "colab_type": "code",
        "outputId": "3ec98b10-3a8c-416f-ecd8-512309d08696",
        "colab": {
          "base_uri": "https://localhost:8080/",
          "height": 545
        }
      },
      "source": [
        "%matplotlib inline\n",
        "\n",
        "import matplotlib.pyplot as plt\n",
        "\n",
        "acc = history.history['acc']\n",
        "val_acc = history.history['val_acc']\n",
        "\n",
        "loss = history.history['loss']\n",
        "val_loss = history.history['val_loss']\n",
        "\n",
        "epochs = range(1, len(acc) + 1)\n",
        "\n",
        "# training and validation accuracy\n",
        "\n",
        "plt.plot(epochs, acc, 'bo', label='training acc')\n",
        "plt.plot(epochs, val_acc, 'b', label='validation acc')\n",
        "plt.title('training and validation accuracy')\n",
        "plt.legend()\n",
        "\n",
        "plt.figure()\n",
        "\n",
        "# training and validation loss\n",
        "\n",
        "plt.plot(epochs, loss, 'bo', label='training loss')\n",
        "plt.plot(epochs, val_loss, 'b', label='validation loss')\n",
        "plt.title('training and validation loss')\n",
        "plt.legend()\n",
        "\n",
        "plt.show()"
      ],
      "execution_count": 0,
      "outputs": [
        {
          "output_type": "display_data",
          "data": {
            "image/png": "[encoded data removed]",
            "text/plain": [
              "<Figure size 432x288 with 1 Axes>"
            ]
          },
          "metadata": {
            "tags": [],
            "needs_background": "light"
          }
        },
        {
          "output_type": "display_data",
          "data": {
            "image/png": "[encoded data removed]",
            "text/plain": [
              "<Figure size 432x288 with 1 Axes>"
            ]
          },
          "metadata": {
            "tags": [],
            "needs_background": "light"
          }
        }
      ]
    },
    {
      "cell_type": "markdown",
      "metadata": {
        "id": "lOWsxpey8lN0",
        "colab_type": "text"
      },
      "source": [
        "## Fine-tuning"
      ]
    },
    {
      "cell_type": "code",
      "metadata": {
        "id": "PwkVMx8N8qMw",
        "colab_type": "code",
        "colab": {}
      },
      "source": [
        "conv_base.trainable = True\n",
        "\n",
        "\n",
        "for layer in conv_base.layers:\n",
        "  if layer.name == 'block1_conv1' or layer.name == 'block1_conv2':\n",
        "    layer.trainable = True;"
      ],
      "execution_count": 0,
      "outputs": []
    },
    {
      "cell_type": "code",
      "metadata": {
        "id": "DyN-J7rs9cvo",
        "colab_type": "code",
        "outputId": "3ff162ff-38b4-44b1-bdc8-47f6973db5e6",
        "colab": {
          "base_uri": "https://localhost:8080/",
          "height": 1000
        }
      },
      "source": [
        "# compile model\n",
        "\n",
        "model.compile(\n",
        "    loss='binary_crossentropy',\n",
        "    #\n",
        "    # choose a smaller learning rate\n",
        "    #\n",
        "    optimizer=optimizers.RMSprop(lr=1e-6), \n",
        "    metrics=['acc'])\n",
        "\n",
        "# train\n",
        "\n",
        "history = model.fit_generator(\n",
        "    train_generator,\n",
        "    steps_per_epoch=100,\n",
        "    epochs=100,\n",
        "    validation_data=validation_generator,\n",
        "    validation_steps=50)"
      ],
      "execution_count": 0,
      "outputs": [
        {
          "output_type": "stream",
          "text": [
            "Epoch 1/100\n",
            "100/100 [==============================] - 38s 384ms/step - loss: 0.1773 - acc: 0.9295 - val_loss: 0.1987 - val_acc: 0.9480\n",
            "Epoch 2/100\n",
            "100/100 [==============================] - 27s 267ms/step - loss: 0.1952 - acc: 0.9205 - val_loss: 0.1031 - val_acc: 0.9540\n",
            "Epoch 3/100\n",
            "100/100 [==============================] - 27s 267ms/step - loss: 0.1676 - acc: 0.9240 - val_loss: 0.0901 - val_acc: 0.9490\n",
            "Epoch 4/100\n",
            "100/100 [==============================] - 27s 267ms/step - loss: 0.1737 - acc: 0.9295 - val_loss: 0.3367 - val_acc: 0.9520\n",
            "Epoch 5/100\n",
            "100/100 [==============================] - 27s 267ms/step - loss: 0.1639 - acc: 0.9310 - val_loss: 0.1036 - val_acc: 0.9540\n",
            "Epoch 6/100\n",
            "100/100 [==============================] - 27s 266ms/step - loss: 0.1803 - acc: 0.9190 - val_loss: 0.3249 - val_acc: 0.9500\n",
            "Epoch 7/100\n",
            "100/100 [==============================] - 27s 268ms/step - loss: 0.1742 - acc: 0.9340 - val_loss: 0.1496 - val_acc: 0.9480\n",
            "Epoch 8/100\n",
            "100/100 [==============================] - 27s 266ms/step - loss: 0.1909 - acc: 0.9235 - val_loss: 0.0883 - val_acc: 0.9510\n",
            "Epoch 9/100\n",
            "100/100 [==============================] - 27s 266ms/step - loss: 0.1575 - acc: 0.9340 - val_loss: 0.0675 - val_acc: 0.9550\n",
            "Epoch 10/100\n",
            "100/100 [==============================] - 27s 266ms/step - loss: 0.1642 - acc: 0.9345 - val_loss: 0.0931 - val_acc: 0.9540\n",
            "Epoch 11/100\n",
            "100/100 [==============================] - 27s 265ms/step - loss: 0.1587 - acc: 0.9420 - val_loss: 0.1137 - val_acc: 0.9570\n",
            "Epoch 12/100\n",
            "100/100 [==============================] - 27s 265ms/step - loss: 0.1763 - acc: 0.9265 - val_loss: 0.0259 - val_acc: 0.9550\n",
            "Epoch 13/100\n",
            "100/100 [==============================] - 27s 266ms/step - loss: 0.1565 - acc: 0.9440 - val_loss: 0.0367 - val_acc: 0.9560\n",
            "Epoch 14/100\n",
            "100/100 [==============================] - 27s 267ms/step - loss: 0.1758 - acc: 0.9310 - val_loss: 0.1039 - val_acc: 0.9600\n",
            "Epoch 15/100\n",
            "100/100 [==============================] - 27s 267ms/step - loss: 0.1667 - acc: 0.9350 - val_loss: 0.1186 - val_acc: 0.9560\n",
            "Epoch 16/100\n",
            "100/100 [==============================] - 27s 266ms/step - loss: 0.1465 - acc: 0.9360 - val_loss: 0.0713 - val_acc: 0.9540\n",
            "Epoch 17/100\n",
            "100/100 [==============================] - 27s 266ms/step - loss: 0.1579 - acc: 0.9340 - val_loss: 0.0382 - val_acc: 0.9590\n",
            "Epoch 18/100\n",
            "100/100 [==============================] - 27s 267ms/step - loss: 0.1737 - acc: 0.9280 - val_loss: 0.0694 - val_acc: 0.9590\n",
            "Epoch 19/100\n",
            "100/100 [==============================] - 27s 265ms/step - loss: 0.1599 - acc: 0.9375 - val_loss: 0.2333 - val_acc: 0.9600\n",
            "Epoch 20/100\n",
            "100/100 [==============================] - 27s 267ms/step - loss: 0.1651 - acc: 0.9295 - val_loss: 0.3019 - val_acc: 0.9560\n",
            "Epoch 21/100\n",
            "100/100 [==============================] - 27s 267ms/step - loss: 0.1536 - acc: 0.9350 - val_loss: 0.3672 - val_acc: 0.9610\n",
            "Epoch 22/100\n",
            "100/100 [==============================] - 27s 268ms/step - loss: 0.1392 - acc: 0.9410 - val_loss: 0.0509 - val_acc: 0.9610\n",
            "Epoch 23/100\n",
            "100/100 [==============================] - 27s 267ms/step - loss: 0.1394 - acc: 0.9475 - val_loss: 0.0561 - val_acc: 0.9570\n",
            "Epoch 24/100\n",
            "100/100 [==============================] - 27s 267ms/step - loss: 0.1441 - acc: 0.9365 - val_loss: 0.0127 - val_acc: 0.9620\n",
            "Epoch 25/100\n",
            "100/100 [==============================] - 27s 267ms/step - loss: 0.1599 - acc: 0.9360 - val_loss: 0.2066 - val_acc: 0.9590\n",
            "Epoch 26/100\n",
            "100/100 [==============================] - 27s 266ms/step - loss: 0.1285 - acc: 0.9490 - val_loss: 0.0112 - val_acc: 0.9590\n",
            "Epoch 27/100\n",
            "100/100 [==============================] - 27s 265ms/step - loss: 0.1406 - acc: 0.9400 - val_loss: 0.1608 - val_acc: 0.9600\n",
            "Epoch 28/100\n",
            "100/100 [==============================] - 27s 267ms/step - loss: 0.1458 - acc: 0.9380 - val_loss: 0.0323 - val_acc: 0.9590\n",
            "Epoch 29/100\n",
            "100/100 [==============================] - 27s 267ms/step - loss: 0.1401 - acc: 0.9475 - val_loss: 0.0127 - val_acc: 0.9580\n",
            "Epoch 30/100\n",
            "100/100 [==============================] - 27s 267ms/step - loss: 0.1261 - acc: 0.9540 - val_loss: 0.1820 - val_acc: 0.9610\n",
            "Epoch 31/100\n",
            "100/100 [==============================] - 27s 267ms/step - loss: 0.1427 - acc: 0.9430 - val_loss: 0.0316 - val_acc: 0.9620\n",
            "Epoch 32/100\n",
            "100/100 [==============================] - 27s 266ms/step - loss: 0.1434 - acc: 0.9390 - val_loss: 0.0138 - val_acc: 0.9610\n",
            "Epoch 33/100\n",
            "100/100 [==============================] - 27s 267ms/step - loss: 0.1353 - acc: 0.9440 - val_loss: 0.0083 - val_acc: 0.9610\n",
            "Epoch 34/100\n",
            "100/100 [==============================] - 27s 268ms/step - loss: 0.1358 - acc: 0.9390 - val_loss: 0.0559 - val_acc: 0.9630\n",
            "Epoch 35/100\n",
            "100/100 [==============================] - 27s 266ms/step - loss: 0.1339 - acc: 0.9480 - val_loss: 0.1036 - val_acc: 0.9610\n",
            "Epoch 36/100\n",
            "100/100 [==============================] - 26s 265ms/step - loss: 0.1217 - acc: 0.9545 - val_loss: 0.0191 - val_acc: 0.9620\n",
            "Epoch 37/100\n",
            "100/100 [==============================] - 27s 265ms/step - loss: 0.1469 - acc: 0.9395 - val_loss: 0.0707 - val_acc: 0.9590\n",
            "Epoch 38/100\n",
            "100/100 [==============================] - 27s 267ms/step - loss: 0.1468 - acc: 0.9445 - val_loss: 0.0347 - val_acc: 0.9610\n",
            "Epoch 39/100\n",
            "100/100 [==============================] - 27s 266ms/step - loss: 0.1213 - acc: 0.9495 - val_loss: 0.0558 - val_acc: 0.9590\n",
            "Epoch 40/100\n",
            "100/100 [==============================] - 27s 266ms/step - loss: 0.1178 - acc: 0.9585 - val_loss: 0.0486 - val_acc: 0.9600\n",
            "Epoch 41/100\n",
            "100/100 [==============================] - 27s 265ms/step - loss: 0.1220 - acc: 0.9520 - val_loss: 0.0740 - val_acc: 0.9580\n",
            "Epoch 42/100\n",
            "100/100 [==============================] - 27s 266ms/step - loss: 0.1477 - acc: 0.9435 - val_loss: 0.1717 - val_acc: 0.9610\n",
            "Epoch 43/100\n",
            "100/100 [==============================] - 27s 266ms/step - loss: 0.1175 - acc: 0.9530 - val_loss: 0.0704 - val_acc: 0.9630\n",
            "Epoch 44/100\n",
            "100/100 [==============================] - 27s 266ms/step - loss: 0.1056 - acc: 0.9565 - val_loss: 0.2741 - val_acc: 0.9630\n",
            "Epoch 45/100\n",
            "100/100 [==============================] - 27s 267ms/step - loss: 0.1243 - acc: 0.9490 - val_loss: 0.0523 - val_acc: 0.9650\n",
            "Epoch 46/100\n",
            "100/100 [==============================] - 27s 267ms/step - loss: 0.1351 - acc: 0.9420 - val_loss: 0.1934 - val_acc: 0.9620\n",
            "Epoch 47/100\n",
            "100/100 [==============================] - 27s 266ms/step - loss: 0.1178 - acc: 0.9505 - val_loss: 0.0635 - val_acc: 0.9610\n",
            "Epoch 48/100\n",
            "100/100 [==============================] - 27s 267ms/step - loss: 0.1292 - acc: 0.9510 - val_loss: 0.0500 - val_acc: 0.9610\n",
            "Epoch 49/100\n",
            "100/100 [==============================] - 27s 267ms/step - loss: 0.1374 - acc: 0.9465 - val_loss: 0.0116 - val_acc: 0.9640\n",
            "Epoch 50/100\n",
            "100/100 [==============================] - 27s 266ms/step - loss: 0.1479 - acc: 0.9395 - val_loss: 0.0553 - val_acc: 0.9660\n",
            "Epoch 51/100\n",
            "100/100 [==============================] - 27s 266ms/step - loss: 0.1347 - acc: 0.9470 - val_loss: 0.1894 - val_acc: 0.9670\n",
            "Epoch 52/100\n",
            "100/100 [==============================] - 27s 268ms/step - loss: 0.1253 - acc: 0.9500 - val_loss: 0.0218 - val_acc: 0.9610\n",
            "Epoch 53/100\n",
            "100/100 [==============================] - 27s 267ms/step - loss: 0.1083 - acc: 0.9525 - val_loss: 0.0104 - val_acc: 0.9620\n",
            "Epoch 54/100\n",
            "100/100 [==============================] - 27s 267ms/step - loss: 0.1283 - acc: 0.9500 - val_loss: 0.0580 - val_acc: 0.9640\n",
            "Epoch 55/100\n",
            "100/100 [==============================] - 27s 266ms/step - loss: 0.1377 - acc: 0.9450 - val_loss: 0.1221 - val_acc: 0.9650\n",
            "Epoch 56/100\n",
            "100/100 [==============================] - 27s 268ms/step - loss: 0.1179 - acc: 0.9520 - val_loss: 0.2513 - val_acc: 0.9650\n",
            "Epoch 57/100\n",
            "100/100 [==============================] - 27s 266ms/step - loss: 0.1058 - acc: 0.9595 - val_loss: 0.0120 - val_acc: 0.9620\n",
            "Epoch 58/100\n",
            "100/100 [==============================] - 27s 266ms/step - loss: 0.1266 - acc: 0.9525 - val_loss: 0.0404 - val_acc: 0.9670\n",
            "Epoch 59/100\n",
            "100/100 [==============================] - 27s 266ms/step - loss: 0.1265 - acc: 0.9510 - val_loss: 0.0104 - val_acc: 0.9660\n",
            "Epoch 60/100\n",
            "100/100 [==============================] - 27s 267ms/step - loss: 0.1101 - acc: 0.9560 - val_loss: 0.0536 - val_acc: 0.9650\n",
            "Epoch 61/100\n",
            "100/100 [==============================] - 27s 268ms/step - loss: 0.1314 - acc: 0.9545 - val_loss: 0.1087 - val_acc: 0.9680\n",
            "Epoch 62/100\n",
            "100/100 [==============================] - 27s 266ms/step - loss: 0.1299 - acc: 0.9470 - val_loss: 0.1842 - val_acc: 0.9640\n",
            "Epoch 63/100\n",
            "100/100 [==============================] - 27s 267ms/step - loss: 0.1146 - acc: 0.9560 - val_loss: 0.0232 - val_acc: 0.9650\n",
            "Epoch 64/100\n",
            "100/100 [==============================] - 27s 266ms/step - loss: 0.1069 - acc: 0.9530 - val_loss: 0.0357 - val_acc: 0.9680\n",
            "Epoch 65/100\n",
            "100/100 [==============================] - 27s 267ms/step - loss: 0.1470 - acc: 0.9490 - val_loss: 0.0226 - val_acc: 0.9670\n",
            "Epoch 66/100\n",
            "100/100 [==============================] - 27s 268ms/step - loss: 0.1125 - acc: 0.9545 - val_loss: 0.0418 - val_acc: 0.9690\n",
            "Epoch 67/100\n",
            "100/100 [==============================] - 27s 266ms/step - loss: 0.1300 - acc: 0.9505 - val_loss: 0.0671 - val_acc: 0.9670\n",
            "Epoch 68/100\n",
            "100/100 [==============================] - 27s 268ms/step - loss: 0.1098 - acc: 0.9575 - val_loss: 0.0657 - val_acc: 0.9680\n",
            "Epoch 69/100\n",
            "100/100 [==============================] - 27s 268ms/step - loss: 0.0940 - acc: 0.9610 - val_loss: 0.0305 - val_acc: 0.9670\n",
            "Epoch 70/100\n",
            "100/100 [==============================] - 27s 266ms/step - loss: 0.0973 - acc: 0.9620 - val_loss: 0.0239 - val_acc: 0.9680\n",
            "Epoch 71/100\n",
            "100/100 [==============================] - 27s 266ms/step - loss: 0.1046 - acc: 0.9580 - val_loss: 0.0061 - val_acc: 0.9650\n",
            "Epoch 72/100\n",
            "100/100 [==============================] - 27s 267ms/step - loss: 0.1118 - acc: 0.9570 - val_loss: 0.0203 - val_acc: 0.9680\n",
            "Epoch 73/100\n",
            "100/100 [==============================] - 27s 268ms/step - loss: 0.1099 - acc: 0.9565 - val_loss: 0.0600 - val_acc: 0.9660\n",
            "Epoch 74/100\n",
            "100/100 [==============================] - 27s 268ms/step - loss: 0.1126 - acc: 0.9570 - val_loss: 0.0963 - val_acc: 0.9680\n",
            "Epoch 75/100\n",
            "100/100 [==============================] - 27s 267ms/step - loss: 0.0988 - acc: 0.9610 - val_loss: 0.0194 - val_acc: 0.9680\n",
            "Epoch 76/100\n",
            "100/100 [==============================] - 27s 267ms/step - loss: 0.1099 - acc: 0.9615 - val_loss: 0.0459 - val_acc: 0.9660\n",
            "Epoch 77/100\n",
            "100/100 [==============================] - 27s 267ms/step - loss: 0.1267 - acc: 0.9515 - val_loss: 0.0872 - val_acc: 0.9670\n",
            "Epoch 78/100\n",
            "100/100 [==============================] - 27s 269ms/step - loss: 0.1002 - acc: 0.9605 - val_loss: 0.0215 - val_acc: 0.9680\n",
            "Epoch 79/100\n",
            "100/100 [==============================] - 27s 268ms/step - loss: 0.1092 - acc: 0.9585 - val_loss: 0.1008 - val_acc: 0.9670\n",
            "Epoch 80/100\n",
            "100/100 [==============================] - 27s 268ms/step - loss: 0.1005 - acc: 0.9635 - val_loss: 0.1154 - val_acc: 0.9700\n",
            "Epoch 81/100\n",
            "100/100 [==============================] - 27s 268ms/step - loss: 0.0956 - acc: 0.9670 - val_loss: 0.0418 - val_acc: 0.9680\n",
            "Epoch 82/100\n",
            "100/100 [==============================] - 27s 268ms/step - loss: 0.1028 - acc: 0.9635 - val_loss: 0.0402 - val_acc: 0.9670\n",
            "Epoch 83/100\n",
            "100/100 [==============================] - 27s 269ms/step - loss: 0.1031 - acc: 0.9580 - val_loss: 0.0570 - val_acc: 0.9690\n",
            "Epoch 84/100\n",
            "100/100 [==============================] - 27s 266ms/step - loss: 0.0952 - acc: 0.9635 - val_loss: 0.3933 - val_acc: 0.9690\n",
            "Epoch 85/100\n",
            "100/100 [==============================] - 27s 267ms/step - loss: 0.1096 - acc: 0.9645 - val_loss: 0.1899 - val_acc: 0.9660\n",
            "Epoch 86/100\n",
            "100/100 [==============================] - 27s 268ms/step - loss: 0.1206 - acc: 0.9560 - val_loss: 0.0768 - val_acc: 0.9660\n",
            "Epoch 87/100\n",
            "100/100 [==============================] - 27s 267ms/step - loss: 0.0947 - acc: 0.9615 - val_loss: 0.0051 - val_acc: 0.9660\n",
            "Epoch 88/100\n",
            "100/100 [==============================] - 27s 266ms/step - loss: 0.1082 - acc: 0.9595 - val_loss: 0.0577 - val_acc: 0.9700\n",
            "Epoch 89/100\n",
            "100/100 [==============================] - 27s 268ms/step - loss: 0.1005 - acc: 0.9610 - val_loss: 0.1337 - val_acc: 0.9710\n",
            "Epoch 90/100\n",
            "100/100 [==============================] - 27s 268ms/step - loss: 0.1011 - acc: 0.9625 - val_loss: 0.0266 - val_acc: 0.9690\n",
            "Epoch 91/100\n",
            "100/100 [==============================] - 27s 267ms/step - loss: 0.1178 - acc: 0.9580 - val_loss: 0.0721 - val_acc: 0.9700\n",
            "Epoch 92/100\n",
            "100/100 [==============================] - 27s 267ms/step - loss: 0.1043 - acc: 0.9565 - val_loss: 0.0286 - val_acc: 0.9660\n",
            "Epoch 93/100\n",
            "100/100 [==============================] - 27s 267ms/step - loss: 0.1088 - acc: 0.9560 - val_loss: 0.3165 - val_acc: 0.9680\n",
            "Epoch 94/100\n",
            "100/100 [==============================] - 27s 267ms/step - loss: 0.1132 - acc: 0.9600 - val_loss: 0.0333 - val_acc: 0.9700\n",
            "Epoch 95/100\n",
            "100/100 [==============================] - 27s 268ms/step - loss: 0.1083 - acc: 0.9580 - val_loss: 0.0702 - val_acc: 0.9700\n",
            "Epoch 96/100\n",
            "100/100 [==============================] - 27s 268ms/step - loss: 0.1081 - acc: 0.9600 - val_loss: 0.0078 - val_acc: 0.9710\n",
            "Epoch 97/100\n",
            "100/100 [==============================] - 27s 267ms/step - loss: 0.0726 - acc: 0.9715 - val_loss: 0.2103 - val_acc: 0.9710\n",
            "Epoch 98/100\n",
            "100/100 [==============================] - 27s 267ms/step - loss: 0.1008 - acc: 0.9585 - val_loss: 0.0754 - val_acc: 0.9730\n",
            "Epoch 99/100\n",
            "100/100 [==============================] - 27s 266ms/step - loss: 0.0949 - acc: 0.9645 - val_loss: 0.0438 - val_acc: 0.9710\n",
            "Epoch 100/100\n",
            "100/100 [==============================] - 27s 270ms/step - loss: 0.0716 - acc: 0.9720 - val_loss: 0.0590 - val_acc: 0.9690\n"
          ],
          "name": "stdout"
        }
      ]
    },
    {
      "cell_type": "markdown",
      "metadata": {
        "id": "eVBQgh5M-Rtz",
        "colab_type": "text"
      },
      "source": [
        "## Display learning curves during fine-tuning"
      ]
    },
    {
      "cell_type": "code",
      "metadata": {
        "id": "mbkIw7Ie-NP4",
        "colab_type": "code",
        "colab": {}
      },
      "source": [
        "%matplotlib inline\n",
        "\n",
        "import matplotlib.pyplot as plt\n",
        "\n",
        "acc = history.history['acc']\n",
        "val_acc = history.history['val_acc']\n",
        "\n",
        "loss = history.history['loss']\n",
        "val_loss = history.history['val_loss']\n",
        "\n",
        "epochs = range(1, len(acc) + 1)\n",
        "\n",
        "# training and validation accuracy\n",
        "\n",
        "plt.plot(epochs, acc, 'bo', label='training acc')\n",
        "plt.plot(epochs, val_acc, 'b', label='validation acc')\n",
        "plt.title('training and validation accuracy')\n",
        "plt.legend()\n",
        "\n",
        "plt.figure()\n",
        "\n",
        "# training and validation loss\n",
        "\n",
        "plt.plot(epochs, loss, 'bo', label='training loss')\n",
        "plt.plot(epochs, val_loss, 'b', label='validation loss')\n",
        "plt.title('training and validation loss')\n",
        "plt.legend()\n",
        "\n",
        "plt.show()"
      ],
      "execution_count": 0,
      "outputs": []
    },
    {
      "cell_type": "markdown",
      "metadata": {
        "id": "obQi6N4ZShdi",
        "colab_type": "text"
      },
      "source": [
        ""
      ]
    },
    {
      "cell_type": "markdown",
      "metadata": {
        "id": "he3Nw6TOJwjx",
        "colab_type": "text"
      },
      "source": [
        "## Print out validation loss and accuracy"
      ]
    },
    {
      "cell_type": "code",
      "metadata": {
        "id": "SVQtrk7uJdhl",
        "colab_type": "code",
        "colab": {}
      },
      "source": [
        "val_loss, val_acc = model.evaluate_generator(validation_generator, steps=50)"
      ],
      "execution_count": 0,
      "outputs": []
    },
    {
      "cell_type": "code",
      "metadata": {
        "id": "HpdddLi1SUMe",
        "colab_type": "code",
        "colab": {}
      },
      "source": [
        "print(\"Validation loss:\", val_loss)\n",
        "print(\"Validation accuracy:\", val_acc)"
      ],
      "execution_count": 0,
      "outputs": []
    },
    {
      "cell_type": "markdown",
      "metadata": {
        "id": "7Ww756WToby8",
        "colab_type": "text"
      },
      "source": [
        "## Save the model"
      ]
    },
    {
      "cell_type": "code",
      "metadata": {
        "id": "0lTUpUdwobKW",
        "colab_type": "code",
        "colab": {}
      },
      "source": [
        "model_fname = 'cats_and_dogs_small_4.h5' \n",
        "model.save(model_fname)"
      ],
      "execution_count": 0,
      "outputs": []
    },
    {
      "cell_type": "code",
      "metadata": {
        "id": "YhEoI8ZTok-X",
        "colab_type": "code",
        "colab": {}
      },
      "source": [
        "from google.colab import files\n",
        "\n",
        "with open(model_fname, 'r') as f:\n",
        "  files.download(model_fname)"
      ],
      "execution_count": 0,
      "outputs": []
    },
    {
      "cell_type": "code",
      "metadata": {
        "id": "VNEL4CCcS0Oj",
        "colab_type": "code",
        "colab": {}
      },
      "source": [
        ""
      ],
      "execution_count": 0,
      "outputs": []
    }
  ]
}