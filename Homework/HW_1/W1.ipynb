{
  "nbformat": 4,
  "nbformat_minor": 0,
  "metadata": {
    "colab": {
      "name": "HW1.ipynb",
      "provenance": [],
      "collapsed_sections": [],
      "authorship_tag": "ABX9TyPlrSJ/0UFSUhQuyeTaSGfe",
      "include_colab_link": true
    },
    "kernelspec": {
      "name": "python3",
      "display_name": "Python 3"
    }
  },
  "cells": [
    {
      "cell_type": "markdown",
      "metadata": {
        "id": "view-in-github",
        "colab_type": "text"
      },
      "source": [
        "<a href=\"https://colab.research.google.com/github/TivsLThree/CAP-4630-Artificial-Intelligence/blob/master/Homework/HW_1/W1.ipynb\" target=\"_parent\"><img src=\"https://colab.research.google.com/assets/colab-badge.svg\" alt=\"Open In Colab\"/></a>"
      ]
    },
    {
      "cell_type": "markdown",
      "metadata": {
        "id": "ipjkWElIJGLA",
        "colab_type": "text"
      },
      "source": [
        "# Setup\n",
        "For two matrices to be compatible, their dimensions must be compatible. A $m{\\times}n$ matrix times a $n{\\times}a$ results in a $m{\\times}a$ matrix. "
      ]
    },
    {
      "cell_type": "code",
      "metadata": {
        "id": "B7R_MqlOr7G9",
        "colab_type": "code",
        "colab": {}
      },
      "source": [
        "import numpy as np\n",
        "\n",
        "class MismatchingIndicesError(Exception):\n",
        "  pass;"
      ],
      "execution_count": 0,
      "outputs": []
    },
    {
      "cell_type": "markdown",
      "metadata": {
        "id": "HLJe9x16Jh0j",
        "colab_type": "text"
      },
      "source": [
        "# Matrix Mult Function\n",
        "Takes an array of matrices and attempts to multiply them from left to right ($0\\rightarrow n - 1$)"
      ]
    },
    {
      "cell_type": "code",
      "metadata": {
        "colab_type": "code",
        "id": "GeX-7kR7Bxde",
        "colab": {}
      },
      "source": [
        "def multiply_matrices(matrices):\n",
        "  if len(matrices) == 0:\n",
        "    return;\n",
        "  for i in range(len(matrices) - 1):\n",
        "    try: \n",
        "      matrices[i+1] = matrices[i] @ matrices[i+1]\n",
        "    except ValueError as e:\n",
        "      raise MismatchingIndicesError(\"The number of columns in  \" + np.array2string(matrices[i]) +\" @ index: \" + str(i) +\" does not match the number of rows in \"+ np.array2string(matrices[i+1]) + \" @ index: \" + str(i+1))\n",
        "  return matrices;"
      ],
      "execution_count": 0,
      "outputs": []
    },
    {
      "cell_type": "markdown",
      "metadata": {
        "id": "vj55QH0rJnt0",
        "colab_type": "text"
      },
      "source": [
        "# Generate Matrices"
      ]
    },
    {
      "cell_type": "code",
      "metadata": {
        "id": "K2YQQxVJHZis",
        "colab_type": "code",
        "colab": {}
      },
      "source": [
        "a = 3;\n",
        "n = 3;\n",
        "matrices = [np.random.random((a,a)) for x in range(n)]\n"
      ],
      "execution_count": 0,
      "outputs": []
    },
    {
      "cell_type": "markdown",
      "metadata": {
        "id": "fgjxNTsBJvf5",
        "colab_type": "text"
      },
      "source": [
        "# Run! :)"
      ]
    },
    {
      "cell_type": "code",
      "metadata": {
        "id": "LUbcfdOqJuSe",
        "colab_type": "code",
        "colab": {
          "base_uri": "https://localhost:8080/",
          "height": 170
        },
        "outputId": "aefa3a2c-6842-46d6-801e-1c6f9b5b989c"
      },
      "source": [
        "multiply_matrices(matrices)"
      ],
      "execution_count": 106,
      "outputs": [
        {
          "output_type": "execute_result",
          "data": {
            "text/plain": [
              "[array([[0.01730211, 0.21738331, 0.83728356],\n",
              "        [0.32401358, 0.02559462, 0.65611488],\n",
              "        [0.95135317, 0.29317379, 0.46884053]]),\n",
              " array([[1.69882908, 0.4278852 , 1.36620312],\n",
              "        [1.530606  , 0.37583766, 1.24004892],\n",
              "        [2.22909348, 0.51611335, 1.81865692]]),\n",
              " array([[3.12157197, 6.5241319 , 4.39802881],\n",
              "        [2.81584433, 5.88514107, 3.96727556],\n",
              "        [4.09289945, 8.55417478, 5.76651424]])]"
            ]
          },
          "metadata": {
            "tags": []
          },
          "execution_count": 106
        }
      ]
    }
  ]
}