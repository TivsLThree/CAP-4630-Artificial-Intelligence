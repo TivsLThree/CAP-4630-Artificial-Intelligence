{
  "nbformat": 4,
  "nbformat_minor": 0,
  "metadata": {
    "colab": {
      "name": "HW5.ipynb",
      "provenance": [],
      "authorship_tag": "ABX9TyPL8NhT6bLVH7C03wov5XUO",
      "include_colab_link": true
    },
    "kernelspec": {
      "name": "python3",
      "display_name": "Python 3"
    }
  },
  "cells": [
    {
      "cell_type": "markdown",
      "metadata": {
        "id": "view-in-github",
        "colab_type": "text"
      },
      "source": [
        "<a href=\"https://colab.research.google.com/github/TivsLThree/CAP-4630-Artificial-Intelligence/blob/master/Homework/HW5/HW5.ipynb\" target=\"_parent\"><img src=\"https://colab.research.google.com/assets/colab-badge.svg\" alt=\"Open In Colab\"/></a>"
      ]
    },
    {
      "cell_type": "markdown",
      "metadata": {
        "id": "-n6YcjWvEphq",
        "colab_type": "text"
      },
      "source": [
        "#General Concepts"
      ]
    },
    {
      "cell_type": "markdown",
      "metadata": {
        "id": "sNa35BjyIHYn",
        "colab_type": "text"
      },
      "source": [
        "Machine learning may have a few definitions. Here are some of the onse given in this class:\n",
        "\n",
        "\n",
        "*   A branch of computer science dealing with the simulation of intelligent behavior in computers.\n",
        "*   The capability of a machine to imitate intelligent human behavior.\n",
        "*   A Computer system able to perform tasks that normally require human intelligence, such as visual perception, speech recognition, decision-making, and translation between languages. \n",
        "\n",
        "\n",
        "More generally, machine learning can be thought of as \"the science and engineering of making intelligent machines.\" - John McCarthy\n",
        "\n",
        "\n",
        "Machine learning programs are able to adujust themselves in response to the data that they are exposed to (the data that we feed it.)\n",
        "\n",
        "A more typical program (say a symbolic AI) may function in a way similar to this:"
      ]
    },
    {
      "cell_type": "code",
      "metadata": {
        "id": "ORYLOftcH6x5",
        "colab_type": "code",
        "colab": {}
      },
      "source": [
        "def function(input, rules):\n",
        "  # do whatever\n",
        "  return output;"
      ],
      "execution_count": 0,
      "outputs": []
    },
    {
      "cell_type": "markdown",
      "metadata": {
        "id": "3IIX8e2EJrhF",
        "colab_type": "text"
      },
      "source": [
        "However, machine learning is different in its ability modify itself and functions more like this:"
      ]
    },
    {
      "cell_type": "code",
      "metadata": {
        "id": "t3uh9zhyJ1ad",
        "colab_type": "code",
        "colab": {}
      },
      "source": [
        "def function(input, output):\n",
        "  # do whatever\n",
        "  return rules;"
      ],
      "execution_count": 0,
      "outputs": []
    },
    {
      "cell_type": "markdown",
      "metadata": {
        "id": "93glJhD9KOxU",
        "colab_type": "text"
      },
      "source": [
        "## Machine Learning, Artificial Intelligence, & Deep Learning\n",
        "\n",
        "*    Machine learning was defined above.\n",
        "*    Artificial intelligence is the study of smart actors: any device that can see and interact with its environment in order to achive some goal. \n",
        "*    Deep learning is a broad section of techniques that are based in artificial neural networks. \n",
        "<br><br>\n",
        "The three are similar concepts that can be thought of as a set of Matryoshka dolls. Deep learning is a subset of machine learning, which is a subset of AI.\n",
        "$${\\displaystyle \\textrm{Deep Learning}\\subseteq \\textrm{Machine Learning}\\subseteq\\textrm{Artificial Intelligence}}$$\n",
        "\n",
        "\n",
        "\n"
      ]
    },
    {
      "cell_type": "markdown",
      "metadata": {
        "id": "LOGxGKXWMQfy",
        "colab_type": "text"
      },
      "source": [
        "## Supervised, Unsupervised, & Reinforcement Learning\n",
        "\n",
        "*    Supervised learning contains labeled training data. In order to train this type of network, you must have access to a dataset and they must have labels corresponding to them that reveal what 'class' they come from.\n",
        "*    Unsupervised learning contains no labeled data, and the network must catorgorize each piece of data and infer its own rules for doing so. The goal is to identify meaningful patterns in data. Then, when the network gets new data it will be able to catagorize them easily. \n",
        "*    Reinforcement learning (RL) you do not collect exmaples with labels. This type of model attempts to play a game without losing. Essentially, you can reward or punish it for certain actions so that it learns how to 'win' whatever game or task you have it set to. "
      ]
    },
    {
      "cell_type": "markdown",
      "metadata": {
        "id": "8F1-HrE4bXTo",
        "colab_type": "text"
      },
      "source": [
        "## Classification & Regression\n",
        "A Regression model predicts continuous values. They can answer questions like the following:\n",
        "\n",
        "*    How expensive is gas?\n",
        "*    What is the probability the stock market will be above a certain threshold tomorrow?\n",
        "\n",
        "A Classification model predicts discrete values. They can make predictions that answer questions imilar to the following:\n",
        "*    Is this a cat, dog, horse, or cow?\n",
        "*    Is this tweet made my a specific user?\n",
        "*    Is this song pop or rock?"
      ]
    },
    {
      "cell_type": "markdown",
      "metadata": {
        "id": "-eDGqQaHEsiL",
        "colab_type": "text"
      },
      "source": [
        "# Basic Concepts"
      ]
    },
    {
      "cell_type": "markdown",
      "metadata": {
        "id": "VG3xw_emSAc8",
        "colab_type": "text"
      },
      "source": [
        "## Linear Regression\n",
        "Linear regression is an approach to model the relationship between two variables. Essentially, it aproximates the best line to 'connect' the pieces of data, though it is usually impossible to obtain an exact line  that goes through all points, as they may not all lie on the same line.\n",
        "In the case of machine learning, the equation is typically written like this:\n",
        "$$\\hat{y} = b + w_i x_i$$\n",
        "\n",
        "\n",
        "where\n",
        "* y is the predicted label\n",
        "* b is the bias (the y-intercept), sometimes referred to as w_0\n",
        "* w_1 is the weight at feature 1. Weight is the same concept as the \"slope\" m in the traditional equation of a line.\n",
        "* x_1 is a feature\n",
        "\n"
      ]
    },
    {
      "cell_type": "code",
      "metadata": {
        "id": "IT7sKZQ0_GU-",
        "colab_type": "code",
        "colab": {}
      },
      "source": [
        "class Model:\n",
        "  def __init__(self, lr=0.1, i_count=2000, verbose=True):\n",
        "    self.verbose = verbose\n",
        "    self.lr = lr;\n",
        "    self.i_count = i_count;\n",
        "  def __sigmoid(self, z):\n",
        "    return 1/(1+np.exp(-z))\n",
        "  def __loss(self, a, y):\n",
        "    return (-y * np.log(a) - (1 - y) * np.log(1 - a)).mean() # Loss function effectively as a percentage\n",
        "  def fit(self, x, y):\n",
        "    losses = []\n",
        "    b = np.ones((x.shape[0], 1))\n",
        "    x = np.concatenate((b,x), axis=1);\n",
        "    \n",
        "    self.theta = np.zeros((x.shape[1],1))\n",
        "\n",
        "    for i in range(self.i_count):\n",
        "      z = np.dot(x, self.theta)\n",
        "      a = self.__sigmoid(z);\n",
        "      # (a - y) * x_j\n",
        "      gradient = np.dot(x.T, a - y) / y.shape[0]\n",
        "      self.theta -= self.lr * gradient\n",
        "      if self.verbose and i % 10 == 0:\n",
        "        z = np.dot(x, self.theta);\n",
        "        a = self.__sigmoid(z);\n",
        "        loss = self.__loss(a, y);\n",
        "        losses.append(loss)\n",
        "    return losses\n",
        "  # Returns the predictions and loss as well\n",
        "  def predict(self, x, y):\n",
        "    b = np.ones((x.shape[0], 1));\n",
        "    x = np.concatenate((b,x), axis=1);\n",
        "    res = self.__sigmoid(np.dot(x, self.theta));\n",
        "    return (np.array([i[0] for i in res ]), self.__loss(res, y))\n",
        "m = Model()\n",
        "# reshape everything to fit correctly\n",
        "#losses = m.fit(x, Z)"
      ],
      "execution_count": 0,
      "outputs": []
    },
    {
      "cell_type": "markdown",
      "metadata": {
        "id": "eOVDqrryVuCW",
        "colab_type": "text"
      },
      "source": [
        "## Training & Loss\n",
        "Empirical risk minimization. \n",
        "*   Training a model means examining the examples and adjusting the weights and the bias so that the loss is minimized. \n",
        "*   Loss is the penalty for a bad prediction, that is, it quantifies how bad the model's prediction was on a single example. Perfect predictions receive a loss of 0 while all other predictions are some value > 0.\n",
        "*   Overall, the goal is to find the best set of weights and biases that achieve a low average loss across all given examples. \n",
        "\n",
        "There are many different loss functions, but the most common one for linear regression is squared loss $${(L_2)}$$\n",
        "\n",
        "The convention for the weights+bias is to include them in the same weight vectoor/matrix.\n",
        "x is the collection of samples. \n",
        "$${w = (b, w_1, w_2,..., w_n)}$$\n",
        "$${x = (x_1, x_2, x_3,..., x_n)}$$\n",
        "A model will make a prediction with:\n",
        "$$\\hat{y}= b + \\sum_{j=1}^{n} w_jx_j$$\n",
        "$$\\hat{y}= w_0* + \\sum_{j=1}^{n} w_jx_j$$\n",
        "When given a prediction and the actual value, the square loss function returns the loss by:\n",
        "$${(y - \\hat{y})}^{2}$$\n",
        "\n",
        "Alternatively, Mean Square Error is defined as:\n",
        "$$\\frac{1}{m}\\sum_{i=1}^{n}{(y^{(i)} - \\hat{y}^{(i)})}^{2}$$"
      ]
    },
    {
      "cell_type": "markdown",
      "metadata": {
        "id": "_8mkegnHVH8E",
        "colab_type": "text"
      },
      "source": [
        "## Gradient & Gradient Descent"
      ]
    },
    {
      "cell_type": "markdown",
      "metadata": {
        "id": "16_MiQTsVI0L",
        "colab_type": "text"
      },
      "source": [
        "Gradient descent is a technique to iteratively update and aproximate the correct values for the weights and biases of a network. \n",
        "We perform gradient descent on the loss function by taking the gradient with respect to each weight and bias of the loss function after every training batch. Then, we update the weights and biases by subtracting a fraction of the gradient from the weight. This is typically done in a vectorized fashion to simplify the updates.\n",
        "\n",
        "A simple implemention of gradient descent with linear regression can be seen in the following:"
      ]
    },
    {
      "cell_type": "code",
      "metadata": {
        "id": "qaeTk0Z_Ux3t",
        "colab_type": "code",
        "colab": {
          "base_uri": "https://localhost:8080/",
          "height": 265
        },
        "outputId": "4575771a-3b2f-4998-ce0f-6496da3ac292"
      },
      "source": [
        "from mpl_toolkits import mplot3d\n",
        "%matplotlib inline\n",
        "import numpy as np\n",
        "import matplotlib.pyplot as plt\n",
        "def f(x, y):\n",
        "  return  x**2 + y**2\n",
        "fig = plt.figure()\n",
        "ax = plt.axes(projection='3d')\n",
        "x = np.linspace(-150, 150, 80)\n",
        "y = np.linspace(-150, 150, 80)\n",
        "\n",
        "ax.scatter(0,0,0)\n",
        "ax.plot3D(x,y,f(x,y), 'gray')"
      ],
      "execution_count": 27,
      "outputs": [
        {
          "output_type": "execute_result",
          "data": {
            "text/plain": [
              "[<mpl_toolkits.mplot3d.art3d.Line3D at 0x7efe9c119f98>]"
            ]
          },
          "metadata": {
            "tags": []
          },
          "execution_count": 27
        },
        {
          "output_type": "display_data",
          "data": {
            "image/png": "[encoded data removed]",
            "text/plain": [
              "<Figure size 432x288 with 1 Axes>"
            ]
          },
          "metadata": {
            "tags": [],
            "needs_background": "light"
          }
        }
      ]
    },
    {
      "cell_type": "markdown",
      "metadata": {
        "id": "F53sOP1jeY2Q",
        "colab_type": "text"
      },
      "source": [
        "In this graph we can see a function and the clear minimum. Gradient descent will start somewhere else on the line, maybe near the top (depending on the random weights), and slowly update it's weights until it arrives that the minimum at the bottom. \n",
        "Updating the weights is accomplished like this:\n",
        "$${w\\ \\mathrel{-}=  \\alpha\\nabla\\mathcal{L}}$$"
      ]
    },
    {
      "cell_type": "markdown",
      "metadata": {
        "id": "eJpRkQYRfusK",
        "colab_type": "text"
      },
      "source": [
        "## Logistic Regression\n",
        "\n",
        "While linear regression attempts to predict a relationship be aproximating a line, logistic regression attempts to classify while using a similar equation.\n",
        "A neural network will have many layers each with potentially many neurons in each layer, connected to the neurons in the next layer. \n",
        "Each neuron will implement a function in two steps. \n",
        "First, sum all the connects and inputs from previous layers' neurons. \n",
        "Then, pass that result through the neuron's activation function before passing it on to the next layer. \n",
        "$${w = (b, w_1, w_2,..., w_n)}$$\n",
        "$${x = (x_1, x_2, x_3,..., x_n)}$$\n",
        "\n",
        "Step 1.\n",
        "$$ z= b + \\sum_{j=1}^{n} w_jx_j$$\n",
        "\n",
        "Step 2.\n",
        "$$ a = \\textrm{activation_function}(z)$$\n",
        "\n",
        "For logistic regression, the activation function is equal to the sigmoid function which is defined by \n",
        "$$\\sigma(z) = \\frac{1}{1+ e^{-z}} $$\n",
        "\n",
        "The sigmoid function squeezes its outputs to be within (0,1).\n",
        "The following code shows that and a few other activation functions. "
      ]
    },
    {
      "cell_type": "code",
      "metadata": {
        "id": "lOihL31FipLu",
        "colab_type": "code",
        "colab": {
          "base_uri": "https://localhost:8080/",
          "height": 0
        },
        "outputId": "44e13c61-f46e-4751-bfe6-56ebbeac638d"
      },
      "source": [
        "from scipy.special import softmax\n",
        "xs = np.linspace(-10,10,100)\n",
        "plt.plot(xs, np.tanh(xs), label='Hyperbolic Tangent');\n",
        "plt.xlim(-10,10)\n",
        "plt.plot(range(-11,11), softmax(range(-11,11)), label='Softmax')\n",
        "plt.plot(xs, 1/(1+np.exp(-xs)), label='Sigmoid')\n",
        "plt.legend();"
      ],
      "execution_count": 28,
      "outputs": [
        {
          "output_type": "display_data",
          "data": {
            "image/png": "[encoded data removed]",
            "text/plain": [
              "<Figure size 432x288 with 1 Axes>"
            ]
          },
          "metadata": {
            "tags": [],
            "needs_background": "light"
          }
        }
      ]
    },
    {
      "cell_type": "markdown",
      "metadata": {
        "id": "ZiOZwYRRTMHO",
        "colab_type": "text"
      },
      "source": [
        "# Building a Convolutional Neural Network w/ Keras\n",
        "\n",
        "\n"
      ]
    },
    {
      "cell_type": "markdown",
      "metadata": {
        "id": "3s9SHTzkueNN",
        "colab_type": "text"
      },
      "source": [
        "Convolutional neural networks are incredibly powerful networks that are used widely but primarly used for image classification. These networks are able to accomplish such great feats because of the layers within them.\\\n",
        "\n",
        "Instead of preprocessing the data to derive features like textures or shapes, a CNN takes the image's raw pixel data as input and learns how to extract features, before eventually learning to classify the entire image. \n",
        "\n",
        "Firstly, CNNs receieve a 3d matrix representing the image. \n",
        "The first and second dimensions correspond to the dimensions of the image.\n",
        "The third dimension is typically 3, due to an image haveing three channels: red, green, and blue.\n",
        "\n",
        "The CNN has three main operations that occur per module, with more complicated models including multiple modules in order to extract features multiple times. \n",
        "\n",
        "The three main operations are the Convolution, ReLU, and pooling\n",
        "### Convolutions\n",
        "A convolution extracts tiles of input matrix, and applies filters to them to compute new features, producing an output feature map, or convolved feature (which can have different sizes then the original image/input feature map)\n",
        "Convolutions are defined by two parameters:\n",
        "*   The size of the tiles extracted, typically 3x3 or 5x5\n",
        "*   The depth of the output feature map, which corresponds to the number of filters that are applied. \n",
        "\n",
        "During a convolution, matrices(aka filters) the size of the tile size slide over the input image, extracting the corresponding information. "
      ]
    },
    {
      "cell_type": "code",
      "metadata": {
        "id": "fyLM0ZG6tc4K",
        "colab_type": "code",
        "colab": {
          "base_uri": "https://localhost:8080/",
          "height": 67
        },
        "outputId": "5bd47147-bd28-40da-eac2-56ed594bd606"
      },
      "source": [
        "import numpy as np\n",
        "a = np.matrix('1 2 3 4 5; 0 0 0 0 0; 3 3 3 3 3; 4 4 4 4 4; 1 1 1 1 1')\n",
        "b = np.matrix('1 0 1; 0 1 0; 1 0 1')\n",
        "print(conv2d(a, b))\n",
        "def conv2d(input_mat, kernal_mat):\n",
        "  kernal_mat = np.rot90(kernal_mat, 2);\n",
        "  kx,ky = kernal_mat.shape\n",
        "  if(kx != ky):\n",
        "    print(\"Kernal not square!\");\n",
        "    return [];\n",
        "  if(input_mat.shape[0] < kx or input_mat.shape[1] < kx):\n",
        "    print(\"Kernal too large!\")\n",
        "    return [];\n",
        "  xdiff, ydiff = np.subtract(input_mat.shape,kernal_mat.shape) # figure out the final size\n",
        "  result_shape = np.add((xdiff,ydiff),(1,1))\n",
        "  output_mat = np.zeros(result_shape)\n",
        "  for i in range(xdiff + 1):\n",
        "    for j in range(ydiff + 1):\n",
        "       output_mat[i][j] += np.sum(np.multiply(input_mat[i:kx+i,j:ky+j],kernal_mat))\n",
        "  return output_mat\n"
      ],
      "execution_count": 29,
      "outputs": [
        {
          "output_type": "stream",
          "text": [
            "[[10. 12. 14.]\n",
            " [11. 11. 11.]\n",
            " [12. 12. 12.]]\n"
          ],
          "name": "stdout"
        }
      ]
    },
    {
      "cell_type": "markdown",
      "metadata": {
        "id": "ALB8I7UytdR-",
        "colab_type": "text"
      },
      "source": [
        "\n",
        "\n",
        "### ReLU\n",
        "ReLU, or Rectified Linear Unit is performed after every convolution in order to introduce non-linearity to the neural network. \n",
        "it can be implemented rather simply:"
      ]
    },
    {
      "cell_type": "code",
      "metadata": {
        "id": "0HjR-SWtmHQ5",
        "colab_type": "code",
        "colab": {}
      },
      "source": [
        "def ReLU(x):\n",
        "  return max(0,x);"
      ],
      "execution_count": 0,
      "outputs": []
    },
    {
      "cell_type": "markdown",
      "metadata": {
        "id": "UABD280UmOMY",
        "colab_type": "text"
      },
      "source": [
        "### Pooling\n",
        "\n",
        "In order to save on processing, the output is then downsampled, reducing the dimensions of the image while still preserving the most critical information within the feature map/image. \n",
        "One of the most common algorithms to do this process is called max pooling. \n",
        "\n",
        "Max pooling works in a similar way to convolutions. We slide over the image and extract some number of tiles. For each tile, the max value is output while the others are removed. \n",
        "Two parameters:\n",
        "*    Size of the max pooling filter (2x2 is common)\n",
        "*    Stride, the distance in pixels seperating the extracted tiles\n"
      ]
    },
    {
      "cell_type": "code",
      "metadata": {
        "id": "vU7juCRDtrgN",
        "colab_type": "code",
        "colab": {
          "base_uri": "https://localhost:8080/",
          "height": 50
        },
        "outputId": "c4079344-2298-4e1d-fdd4-bfcc0f07cf56"
      },
      "source": [
        "def maxpooling2d(input_mat, s):\n",
        "  x, y = input_mat.shape\n",
        "  if(s > x):\n",
        "    print(\"s is too large!\")\n",
        "    return;\n",
        "  nx = (x - s)//s + 1\n",
        "  ny = (y - s)//s + 1\n",
        "  output_mat = np.zeros((nx,ny))\n",
        "  for i in range(nx):\n",
        "    for j in range(ny):\n",
        "      sub = input_mat[i*s: i*s + s, j*s : j*s + s]\n",
        "      max_val = sub.max();\n",
        "      output_mat[i,j] = max_val\n",
        "  return output_mat\n",
        "\n",
        "  \n",
        "maxpooling2d(a,2)"
      ],
      "execution_count": 31,
      "outputs": [
        {
          "output_type": "execute_result",
          "data": {
            "text/plain": [
              "array([[2., 4.],\n",
              "       [4., 4.]])"
            ]
          },
          "metadata": {
            "tags": []
          },
          "execution_count": 31
        }
      ]
    },
    {
      "cell_type": "markdown",
      "metadata": {
        "id": "meVydZNetsWK",
        "colab_type": "text"
      },
      "source": [
        "\n",
        "\n",
        "### Fully Connected layers\n",
        "\n",
        "At the end of CNNs are typically one or more fully connected layers. (Dense Layers in Keras)\n",
        "There job is two perform the classifications based on the features extracted from the convolutional modules. Typically the last layer has an activation function of softmax, which outputs a value between 0 and 1 (which can be interpret)\n",
        "\n",
        "## Putting it all together\n",
        "Putting all these components together we arrive at the final cnn structure. As an example, I included my flag guessing CNN structure. (does not include dataset or labels)"
      ]
    },
    {
      "cell_type": "code",
      "metadata": {
        "id": "4xrf9MMEzraS",
        "colab_type": "code",
        "colab": {}
      },
      "source": [
        "import keras.layers as layers\n",
        "import keras\n",
        "\n",
        "cnn = keras.Sequential(); # The model object.\n",
        "\n",
        "cnn.add(layers.Conv2D(filters = 32, kernel_size=(3,3),strides = (2,2), input_shape=images[0].shape, padding = 'same')) # First Conv2D. This performs a convolution on images with the parameters supplied. \n",
        "cnn.add(layers.Activation('relu')) # same as described\n",
        "cnn.add(layers.MaxPool2D(pool_size=(2,2), strides = 2)) # max pooling with strides and tile size of 2\n",
        "\n",
        "# end of first module. \n",
        "\n",
        "\n",
        "# next module\n",
        "cnn.add(layers.Conv2D(filters = 64, kernel_size=(2,2), strides = (1,1,), padding = 'valid'));\n",
        "cnn.add(layers.Activation('relu'))\n",
        "cnn.add(layers.MaxPool2D(pool_size=(2,2), strides = 2))\n",
        "\n",
        "\n",
        "cnn.add(layers.Flatten()); # transformation to connect to the dense layer \n",
        "cnn.add(layers.Dense(64)); # fully connected layer \n",
        "cnn.add(layers.Activation('relu')); # another relu, independent of a conv module. \n",
        "        \n",
        "cnn.add(layers.Dropout(0.2)); # dropout. This layer will drop (set to 0) a percentage of weights. \n",
        "        \n",
        "cnn.add(layers.Dense(len(flag_names), activation='softmax')); # final layer, objective function = softmax\n",
        "\n",
        "cnn.compile(loss=\"categorical_crossentropy\", optimizer='adam', metrics = ['accuracy'])"
      ],
      "execution_count": 0,
      "outputs": []
    },
    {
      "cell_type": "markdown",
      "metadata": {
        "id": "dXWTKDr3Eya2",
        "colab_type": "text"
      },
      "source": [
        "# Comping a Model"
      ]
    },
    {
      "cell_type": "markdown",
      "metadata": {
        "id": "tBbn2qKTuhtU",
        "colab_type": "text"
      },
      "source": [
        "## Loss Function\n",
        " As previously mentioned, the loss function will be what the model is is trying to minimize during training. For supervised learning problems, it measures the deviation between the predicted value the the target from the training input. \n",
        "## Objective Function/Final Layer Activation\n",
        "Choosing the correct objective function is important, because a model will attempt to take any short cut it can in order to minimize the loss. As a result, the correct objective function should only be used for the correct type of problem. According to the notes:\n",
        "$$\\begin{array}[]\n",
        "Problem Type              & Objective Function & Loss Function               \\\\\n",
        "Binary Classification     & sigmoid            & binary\\_crossentropy        \\\\\n",
        "Multiclass, single-label  & softmax            & categorical\\_crossentropy   \\\\\n",
        "Multiclass, multi-label   & sigmoid            & binary\\_crossentropy        \\\\\n",
        "Regression to real values & none               & mse                         \\\\\n",
        "Regression to {[}0,1{]}   & sigmoid            & mse or binary\\_crossentropy\n",
        "\\end{array}$$\n",
        "## Optimizers\n",
        "\n",
        "Stochastic Gradient Descent,\n",
        "<br>\n",
        " also known as SGD, is the classic machine learning optimizer. Through the use of the gradients and the chain rule, SGD is able to back propagate the error and slowly adjust the weights of a network according to how much a specific weight contributes to the error. \n",
        "<br>\n",
        "A popular way to improve SGD is to introduce the concept of momentum. SGD with momentum (SGDM) remembers the weight changed from the previous time step and linearly combines it with the weight updates from the current time step. This causes the network to be adjusted increasingly rapidly whenever the direction of the changes stays the same over multiple time steps. Alternatively, whenever the gradient is wildly changing directions over a time frame, the weight changes will be much smaller as it will not have time to gain momentum. As a result, introducing momentum works similar to momentum in physics.\n",
        "<br>\n",
        "Compared to the other options, SGDM is typically the most accurate optimizer, but may be slower than the others. \n",
        "\n",
        "<br>\n",
        "Adam\n",
        "<br>\n",
        "The major competitor to SGDM is Adam, which stands for adaptive moment estimation. Adam keeps information regarding previous gradients and attempts to smooth out the steps of the gradient descent. This method typically works well in practice with very little hyperparameter optimization. Most modern networks will use Adam or a derivative instead of SGDM.\n",
        "\n",
        "##Learning Rate\n",
        "Learning rate is a hyperparameter that, much like it sounds, effects the rate at which a network 'learns'. What actually happens is the gradient is multipled by the learning rate whenenver a weight update occurs:\n",
        "\n",
        "$${w\\ \\mathrel{-}=  \\alpha\\nabla\\mathcal{L}}$$\n"
      ]
    },
    {
      "cell_type": "markdown",
      "metadata": {
        "id": "8pRJ_aOu9bs_",
        "colab_type": "text"
      },
      "source": [
        "# Training a Model"
      ]
    },
    {
      "cell_type": "markdown",
      "metadata": {
        "id": "-W-SZ_HLE1ZI",
        "colab_type": "text"
      },
      "source": [
        "\n",
        "Keras has many metrics options that make diagnosing problems and dissecting networks much easier. The correct one to use depneds on the network and they can all be seen here:https://keras.io/metrics/\n",
        "## Splitting a dataset\n",
        "Typically when training a model, you have access to one, contiguous dataset. However, it is common practice to split this data set up into a testing set and a training set. Importantly, there must be no mix of data between the sets. \n",
        "\n",
        "Training a model on one dataset then testing it on another give a more accurate depiction of the accuracy of a model. \n",
        "However, say you did not split up the dataset and only had the training set. \n",
        "\n",
        "Over time, the model may become exceedingly good at making predictions on the training set but also incredibly bad at making predictions on new, unseen data. \n",
        "One of the best/easiest ways to detect that this is occuring is to split the data as mentioned. Then, train on the data set and after each epoch, try to make some predictions on the testing set. From this, you will get a testing_accuracy per epoch. If at some epoch the training accuracy starts trending upward but the testing accuracy doesnt(or worse goes down), then **overfitting** may be occuring. \n",
        "\n",
        "## Overfitting\n",
        "Overfitting occurs whenever a model is trained too much or improperly on a dataset, leading to low testing accuracy. \n",
        "There are many different ways to combat this\n",
        "*    Include a dropout layer, dropping some percentage of weights every instance\n",
        "*    Add much more data, specifically ones that differ from the already exxisting dataset.\n",
        "* Reduce complexity - The more complex a network is the more prone it is to overfitting. A minimum network is desireable. \n",
        "*    Image Augmentation - For CNN, rotating, streching, or otherwise transforming the datset images slightly is a great way to artificially increase the size of a dataset. \n",
        "*    Keras has regularizers, which can be used to decrease the amount of overfitting\n"
      ]
    },
    {
      "cell_type": "markdown",
      "metadata": {
        "id": "1X8CNNcI9iNY",
        "colab_type": "text"
      },
      "source": [
        "# Finetuning a Pretrained Model\n"
      ]
    },
    {
      "cell_type": "markdown",
      "metadata": {
        "id": "fKsMFdJIE3zU",
        "colab_type": "text"
      },
      "source": [
        "\n",
        "Because training a model is both time intenstive and complicated, using a pretrained model is popular.  There are many public CNN models that are trainined on thousands of classes on a rather large dataset. However, if you want to use a pretrained model to accomplish some other task you can do that as well. \n",
        "\n",
        "Using Keras they can loaded easily."
      ]
    },
    {
      "cell_type": "code",
      "metadata": {
        "id": "SX2MBwn_4ji9",
        "colab_type": "code",
        "colab": {}
      },
      "source": [
        "from keras.applications import VGG16\n",
        "\n",
        "conv_base = VGG16(\n",
        "    weights='imagenet', \n",
        "    include_top=False, \n",
        "    input_shape=(150, 150, 3))\n",
        "conv_base.summary()"
      ],
      "execution_count": 0,
      "outputs": []
    },
    {
      "cell_type": "markdown",
      "metadata": {
        "id": "Qknnnejc6JHd",
        "colab_type": "text"
      },
      "source": [
        "Unfreezing some of the layers from the CNN and allowing them to be trained can improve accuracy if you use a model in a box on a new problem. However, unfreezing too many layers may lead to the network overfitting for your data. \n",
        "\n",
        "Typically, a convolutional base(Like the model loaded from Keras) will be concatenated to another network that you will have to make yourself. \n",
        "\n",
        "The custom sequential network tries takes the output from the conv_base, and attempts to classify from the features output by the conv_base. "
      ]
    },
    {
      "cell_type": "code",
      "metadata": {
        "id": "V98SUENd7nXc",
        "colab_type": "code",
        "colab": {}
      },
      "source": [
        "from keras import layers\n",
        "from keras import models\n",
        "from keras import optimizers\n",
        "\n",
        "model = models.Sequential()\n",
        "model.add(conv_base)\n",
        "model.add(layers.Flatten())\n",
        "\n",
        "model.add(layers.Dense(256, activation='relu'))\n",
        "model.add(layers.Dropout(0.2))\n",
        "model.add(layers.Dense(128, activation='tanh'))\n",
        "model.add(layers.Dropout(0.1))\n",
        "model.add(layers.Dense(1, activation='sigmoid'))"
      ],
      "execution_count": 0,
      "outputs": []
    },
    {
      "cell_type": "markdown",
      "metadata": {
        "id": "kVDqGLfV77kT",
        "colab_type": "text"
      },
      "source": [
        "Using the names we found from the conv_base summary, we can unfreeze or freeze specific layers to our liking. "
      ]
    },
    {
      "cell_type": "code",
      "metadata": {
        "id": "7g4oFHpi8EdR",
        "colab_type": "code",
        "colab": {}
      },
      "source": [
        "conv_base.trainable = True\n",
        "for layer in conv_base.layers:\n",
        "  if layer.name == 'block1_conv1' or layer.name == 'block1_conv2':\n",
        "    layer.trainable = True;"
      ],
      "execution_count": 0,
      "outputs": []
    },
    {
      "cell_type": "markdown",
      "metadata": {
        "id": "aqUlA0fd8hRP",
        "colab_type": "text"
      },
      "source": [
        "Finetuning a pretrained model is all about iteration. Becaause the networks are already trained, the goal is to retrain it for a similar, but different problem.\n",
        "Make informed decisions based on training accuracy and validation accuracy graphs, slowly making changes and watching how the effect the model and propogate out. Use other metrics Keras gives you, as well. "
      ]
    }
  ]
}